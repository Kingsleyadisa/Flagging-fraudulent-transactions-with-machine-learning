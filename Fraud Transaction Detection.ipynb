{
 "cells": [
  {
   "cell_type": "code",
   "execution_count": 1,
   "id": "2554a514",
   "metadata": {},
   "outputs": [],
   "source": [
    "import pandas as pd\n",
    "import numpy as np\n",
    "import matplotlib.pyplot as plt\n",
    "import seaborn as sns"
   ]
  },
  {
   "cell_type": "code",
   "execution_count": 2,
   "id": "59b310f4",
   "metadata": {},
   "outputs": [],
   "source": [
    "import warnings\n",
    "warnings.filterwarnings(\"ignore\")\n",
    "sns.set(style=\"whitegrid\")"
   ]
  },
  {
   "cell_type": "code",
   "execution_count": 3,
   "id": "48ac3bc7",
   "metadata": {},
   "outputs": [],
   "source": [
    "df = pd.read_csv(\"fraud_dataset.csv\")"
   ]
  },
  {
   "cell_type": "code",
   "execution_count": 4,
   "id": "9884ec13",
   "metadata": {
    "scrolled": true
   },
   "outputs": [
    {
     "data": {
      "text/html": [
       "<div>\n",
       "<style scoped>\n",
       "    .dataframe tbody tr th:only-of-type {\n",
       "        vertical-align: middle;\n",
       "    }\n",
       "\n",
       "    .dataframe tbody tr th {\n",
       "        vertical-align: top;\n",
       "    }\n",
       "\n",
       "    .dataframe thead th {\n",
       "        text-align: right;\n",
       "    }\n",
       "</style>\n",
       "<table border=\"1\" class=\"dataframe\">\n",
       "  <thead>\n",
       "    <tr style=\"text-align: right;\">\n",
       "      <th></th>\n",
       "      <th>step</th>\n",
       "      <th>type</th>\n",
       "      <th>amount</th>\n",
       "      <th>nameOrig</th>\n",
       "      <th>oldbalanceOrg</th>\n",
       "      <th>newbalanceOrig</th>\n",
       "      <th>nameDest</th>\n",
       "      <th>oldbalanceDest</th>\n",
       "      <th>newbalanceDest</th>\n",
       "      <th>isFraud</th>\n",
       "      <th>isFlaggedFraud</th>\n",
       "      <th>transaction_type</th>\n",
       "      <th>channel</th>\n",
       "      <th>transaction_time</th>\n",
       "      <th>time_since_last_transaction</th>\n",
       "      <th>is_new_device</th>\n",
       "      <th>amount_fraction_of_balance</th>\n",
       "      <th>is_new_destination</th>\n",
       "      <th>LoginAttempts</th>\n",
       "    </tr>\n",
       "  </thead>\n",
       "  <tbody>\n",
       "    <tr>\n",
       "      <th>0</th>\n",
       "      <td>217</td>\n",
       "      <td>PAYMENT</td>\n",
       "      <td>3170.28</td>\n",
       "      <td>C1000001337</td>\n",
       "      <td>58089.00</td>\n",
       "      <td>54918.72</td>\n",
       "      <td>M216466820</td>\n",
       "      <td>0.00</td>\n",
       "      <td>0.00</td>\n",
       "      <td>0</td>\n",
       "      <td>0</td>\n",
       "      <td>Payment</td>\n",
       "      <td>web</td>\n",
       "      <td>2025-01-10 01:00:00</td>\n",
       "      <td>0.0</td>\n",
       "      <td>1</td>\n",
       "      <td>0.054576</td>\n",
       "      <td>1</td>\n",
       "      <td>1</td>\n",
       "    </tr>\n",
       "    <tr>\n",
       "      <th>1</th>\n",
       "      <td>19</td>\n",
       "      <td>PAYMENT</td>\n",
       "      <td>3849.38</td>\n",
       "      <td>C1000009135</td>\n",
       "      <td>103120.55</td>\n",
       "      <td>99271.17</td>\n",
       "      <td>M2120765976</td>\n",
       "      <td>0.00</td>\n",
       "      <td>0.00</td>\n",
       "      <td>0</td>\n",
       "      <td>0</td>\n",
       "      <td>Payment</td>\n",
       "      <td>web</td>\n",
       "      <td>2025-01-01 19:00:00</td>\n",
       "      <td>0.0</td>\n",
       "      <td>0</td>\n",
       "      <td>0.037329</td>\n",
       "      <td>1</td>\n",
       "      <td>1</td>\n",
       "    </tr>\n",
       "    <tr>\n",
       "      <th>2</th>\n",
       "      <td>302</td>\n",
       "      <td>PAYMENT</td>\n",
       "      <td>17686.93</td>\n",
       "      <td>C100001401</td>\n",
       "      <td>104117.89</td>\n",
       "      <td>86430.95</td>\n",
       "      <td>M70139133</td>\n",
       "      <td>0.00</td>\n",
       "      <td>0.00</td>\n",
       "      <td>0</td>\n",
       "      <td>0</td>\n",
       "      <td>Payment</td>\n",
       "      <td>web</td>\n",
       "      <td>2025-01-13 14:00:00</td>\n",
       "      <td>0.0</td>\n",
       "      <td>0</td>\n",
       "      <td>0.169874</td>\n",
       "      <td>1</td>\n",
       "      <td>1</td>\n",
       "    </tr>\n",
       "    <tr>\n",
       "      <th>3</th>\n",
       "      <td>163</td>\n",
       "      <td>CASH_OUT</td>\n",
       "      <td>77027.49</td>\n",
       "      <td>C1000015836</td>\n",
       "      <td>19787.00</td>\n",
       "      <td>0.00</td>\n",
       "      <td>C941241676</td>\n",
       "      <td>0.00</td>\n",
       "      <td>77027.49</td>\n",
       "      <td>0</td>\n",
       "      <td>0</td>\n",
       "      <td>Withdrawal</td>\n",
       "      <td>mobile_app</td>\n",
       "      <td>2025-01-07 19:00:00</td>\n",
       "      <td>0.0</td>\n",
       "      <td>0</td>\n",
       "      <td>1.000000</td>\n",
       "      <td>1</td>\n",
       "      <td>1</td>\n",
       "    </tr>\n",
       "    <tr>\n",
       "      <th>4</th>\n",
       "      <td>96</td>\n",
       "      <td>CASH_OUT</td>\n",
       "      <td>290045.17</td>\n",
       "      <td>C1000018217</td>\n",
       "      <td>0.00</td>\n",
       "      <td>0.00</td>\n",
       "      <td>C187378283</td>\n",
       "      <td>914750.06</td>\n",
       "      <td>1204795.23</td>\n",
       "      <td>0</td>\n",
       "      <td>0</td>\n",
       "      <td>Withdrawal</td>\n",
       "      <td>mobile_app</td>\n",
       "      <td>2025-01-05 00:00:00</td>\n",
       "      <td>0.0</td>\n",
       "      <td>0</td>\n",
       "      <td>0.000000</td>\n",
       "      <td>1</td>\n",
       "      <td>1</td>\n",
       "    </tr>\n",
       "  </tbody>\n",
       "</table>\n",
       "</div>"
      ],
      "text/plain": [
       "   step      type     amount     nameOrig  oldbalanceOrg  newbalanceOrig  \\\n",
       "0   217   PAYMENT    3170.28  C1000001337       58089.00        54918.72   \n",
       "1    19   PAYMENT    3849.38  C1000009135      103120.55        99271.17   \n",
       "2   302   PAYMENT   17686.93   C100001401      104117.89        86430.95   \n",
       "3   163  CASH_OUT   77027.49  C1000015836       19787.00            0.00   \n",
       "4    96  CASH_OUT  290045.17  C1000018217           0.00            0.00   \n",
       "\n",
       "      nameDest  oldbalanceDest  newbalanceDest  isFraud  isFlaggedFraud  \\\n",
       "0   M216466820            0.00            0.00        0               0   \n",
       "1  M2120765976            0.00            0.00        0               0   \n",
       "2    M70139133            0.00            0.00        0               0   \n",
       "3   C941241676            0.00        77027.49        0               0   \n",
       "4   C187378283       914750.06      1204795.23        0               0   \n",
       "\n",
       "  transaction_type     channel     transaction_time  \\\n",
       "0          Payment         web  2025-01-10 01:00:00   \n",
       "1          Payment         web  2025-01-01 19:00:00   \n",
       "2          Payment         web  2025-01-13 14:00:00   \n",
       "3       Withdrawal  mobile_app  2025-01-07 19:00:00   \n",
       "4       Withdrawal  mobile_app  2025-01-05 00:00:00   \n",
       "\n",
       "   time_since_last_transaction  is_new_device  amount_fraction_of_balance  \\\n",
       "0                          0.0              1                    0.054576   \n",
       "1                          0.0              0                    0.037329   \n",
       "2                          0.0              0                    0.169874   \n",
       "3                          0.0              0                    1.000000   \n",
       "4                          0.0              0                    0.000000   \n",
       "\n",
       "   is_new_destination  LoginAttempts  \n",
       "0                   1              1  \n",
       "1                   1              1  \n",
       "2                   1              1  \n",
       "3                   1              1  \n",
       "4                   1              1  "
      ]
     },
     "execution_count": 4,
     "metadata": {},
     "output_type": "execute_result"
    }
   ],
   "source": [
    "df.head()"
   ]
  },
  {
   "cell_type": "code",
   "execution_count": 5,
   "id": "b1427688",
   "metadata": {},
   "outputs": [
    {
     "data": {
      "text/plain": [
       "0    950000\n",
       "1     50000\n",
       "Name: is_new_device, dtype: int64"
      ]
     },
     "execution_count": 5,
     "metadata": {},
     "output_type": "execute_result"
    }
   ],
   "source": [
    "df[\"is_new_device\"].value_counts()"
   ]
  },
  {
   "cell_type": "code",
   "execution_count": 6,
   "id": "283be9af",
   "metadata": {},
   "outputs": [
    {
     "name": "stdout",
     "output_type": "stream",
     "text": [
      "<class 'pandas.core.frame.DataFrame'>\n",
      "RangeIndex: 1000000 entries, 0 to 999999\n",
      "Data columns (total 19 columns):\n",
      " #   Column                       Non-Null Count    Dtype  \n",
      "---  ------                       --------------    -----  \n",
      " 0   step                         1000000 non-null  int64  \n",
      " 1   type                         1000000 non-null  object \n",
      " 2   amount                       1000000 non-null  float64\n",
      " 3   nameOrig                     1000000 non-null  object \n",
      " 4   oldbalanceOrg                1000000 non-null  float64\n",
      " 5   newbalanceOrig               1000000 non-null  float64\n",
      " 6   nameDest                     1000000 non-null  object \n",
      " 7   oldbalanceDest               1000000 non-null  float64\n",
      " 8   newbalanceDest               1000000 non-null  float64\n",
      " 9   isFraud                      1000000 non-null  int64  \n",
      " 10  isFlaggedFraud               1000000 non-null  int64  \n",
      " 11  transaction_type             1000000 non-null  object \n",
      " 12  channel                      1000000 non-null  object \n",
      " 13  transaction_time             1000000 non-null  object \n",
      " 14  time_since_last_transaction  1000000 non-null  float64\n",
      " 15  is_new_device                1000000 non-null  int64  \n",
      " 16  amount_fraction_of_balance   1000000 non-null  float64\n",
      " 17  is_new_destination           1000000 non-null  int64  \n",
      " 18  LoginAttempts                1000000 non-null  int64  \n",
      "dtypes: float64(7), int64(6), object(6)\n",
      "memory usage: 145.0+ MB\n"
     ]
    }
   ],
   "source": [
    "df.info()"
   ]
  },
  {
   "cell_type": "code",
   "execution_count": 7,
   "id": "ffd01aab",
   "metadata": {},
   "outputs": [
    {
     "data": {
      "text/plain": [
       "Withdrawal    351432\n",
       "Payment       338453\n",
       "Deposit       219961\n",
       "Transfer       83696\n",
       "Debit           6458\n",
       "Name: transaction_type, dtype: int64"
      ]
     },
     "execution_count": 7,
     "metadata": {},
     "output_type": "execute_result"
    }
   ],
   "source": [
    "df[\"transaction_type\"].value_counts()"
   ]
  },
  {
   "cell_type": "code",
   "execution_count": 8,
   "id": "8a866f83",
   "metadata": {},
   "outputs": [
    {
     "data": {
      "text/plain": [
       "Index(['step', 'type', 'amount', 'nameOrig', 'oldbalanceOrg', 'newbalanceOrig',\n",
       "       'nameDest', 'oldbalanceDest', 'newbalanceDest', 'isFraud',\n",
       "       'isFlaggedFraud', 'transaction_type', 'channel', 'transaction_time',\n",
       "       'time_since_last_transaction', 'is_new_device',\n",
       "       'amount_fraction_of_balance', 'is_new_destination', 'LoginAttempts'],\n",
       "      dtype='object')"
      ]
     },
     "execution_count": 8,
     "metadata": {},
     "output_type": "execute_result"
    }
   ],
   "source": [
    "df.columns"
   ]
  },
  {
   "cell_type": "code",
   "execution_count": 9,
   "id": "d83d572a",
   "metadata": {},
   "outputs": [
    {
     "data": {
      "text/html": [
       "<div>\n",
       "<style scoped>\n",
       "    .dataframe tbody tr th:only-of-type {\n",
       "        vertical-align: middle;\n",
       "    }\n",
       "\n",
       "    .dataframe tbody tr th {\n",
       "        vertical-align: top;\n",
       "    }\n",
       "\n",
       "    .dataframe thead th {\n",
       "        text-align: right;\n",
       "    }\n",
       "</style>\n",
       "<table border=\"1\" class=\"dataframe\">\n",
       "  <thead>\n",
       "    <tr style=\"text-align: right;\">\n",
       "      <th></th>\n",
       "      <th>step</th>\n",
       "      <th>amount</th>\n",
       "      <th>oldbalanceOrg</th>\n",
       "      <th>newbalanceOrig</th>\n",
       "      <th>oldbalanceDest</th>\n",
       "      <th>newbalanceDest</th>\n",
       "      <th>isFraud</th>\n",
       "      <th>isFlaggedFraud</th>\n",
       "      <th>time_since_last_transaction</th>\n",
       "      <th>is_new_device</th>\n",
       "      <th>amount_fraction_of_balance</th>\n",
       "      <th>is_new_destination</th>\n",
       "      <th>LoginAttempts</th>\n",
       "    </tr>\n",
       "  </thead>\n",
       "  <tbody>\n",
       "    <tr>\n",
       "      <th>count</th>\n",
       "      <td>1000000.000000</td>\n",
       "      <td>1.000000e+06</td>\n",
       "      <td>1.000000e+06</td>\n",
       "      <td>1.000000e+06</td>\n",
       "      <td>1.000000e+06</td>\n",
       "      <td>1.000000e+06</td>\n",
       "      <td>1000000.000000</td>\n",
       "      <td>1000000.000000</td>\n",
       "      <td>1000000.000000</td>\n",
       "      <td>1000000.000000</td>\n",
       "      <td>1000000.000000</td>\n",
       "      <td>1000000.0</td>\n",
       "      <td>1000000.000000</td>\n",
       "    </tr>\n",
       "    <tr>\n",
       "      <th>mean</th>\n",
       "      <td>243.512303</td>\n",
       "      <td>1.804999e+05</td>\n",
       "      <td>8.319644e+05</td>\n",
       "      <td>8.534179e+05</td>\n",
       "      <td>1.105606e+06</td>\n",
       "      <td>1.230483e+06</td>\n",
       "      <td>0.001266</td>\n",
       "      <td>0.000003</td>\n",
       "      <td>0.036100</td>\n",
       "      <td>0.050000</td>\n",
       "      <td>0.385261</td>\n",
       "      <td>1.0</td>\n",
       "      <td>1.121309</td>\n",
       "    </tr>\n",
       "    <tr>\n",
       "      <th>std</th>\n",
       "      <td>142.415978</td>\n",
       "      <td>6.170112e+05</td>\n",
       "      <td>2.884868e+06</td>\n",
       "      <td>2.921068e+06</td>\n",
       "      <td>3.417108e+06</td>\n",
       "      <td>3.698862e+06</td>\n",
       "      <td>0.035558</td>\n",
       "      <td>0.001732</td>\n",
       "      <td>2.985462</td>\n",
       "      <td>0.217945</td>\n",
       "      <td>0.448322</td>\n",
       "      <td>0.0</td>\n",
       "      <td>0.385413</td>\n",
       "    </tr>\n",
       "    <tr>\n",
       "      <th>min</th>\n",
       "      <td>1.000000</td>\n",
       "      <td>0.000000e+00</td>\n",
       "      <td>0.000000e+00</td>\n",
       "      <td>0.000000e+00</td>\n",
       "      <td>0.000000e+00</td>\n",
       "      <td>0.000000e+00</td>\n",
       "      <td>0.000000</td>\n",
       "      <td>0.000000</td>\n",
       "      <td>0.000000</td>\n",
       "      <td>0.000000</td>\n",
       "      <td>0.000000</td>\n",
       "      <td>1.0</td>\n",
       "      <td>1.000000</td>\n",
       "    </tr>\n",
       "    <tr>\n",
       "      <th>25%</th>\n",
       "      <td>156.000000</td>\n",
       "      <td>1.336029e+04</td>\n",
       "      <td>0.000000e+00</td>\n",
       "      <td>0.000000e+00</td>\n",
       "      <td>0.000000e+00</td>\n",
       "      <td>0.000000e+00</td>\n",
       "      <td>0.000000</td>\n",
       "      <td>0.000000</td>\n",
       "      <td>0.000000</td>\n",
       "      <td>0.000000</td>\n",
       "      <td>0.000000</td>\n",
       "      <td>1.0</td>\n",
       "      <td>1.000000</td>\n",
       "    </tr>\n",
       "    <tr>\n",
       "      <th>50%</th>\n",
       "      <td>239.000000</td>\n",
       "      <td>7.487864e+04</td>\n",
       "      <td>1.425613e+04</td>\n",
       "      <td>0.000000e+00</td>\n",
       "      <td>1.329588e+05</td>\n",
       "      <td>2.153516e+05</td>\n",
       "      <td>0.000000</td>\n",
       "      <td>0.000000</td>\n",
       "      <td>0.000000</td>\n",
       "      <td>0.000000</td>\n",
       "      <td>0.076919</td>\n",
       "      <td>1.0</td>\n",
       "      <td>1.000000</td>\n",
       "    </tr>\n",
       "    <tr>\n",
       "      <th>75%</th>\n",
       "      <td>335.000000</td>\n",
       "      <td>2.092836e+05</td>\n",
       "      <td>1.071842e+05</td>\n",
       "      <td>1.443272e+05</td>\n",
       "      <td>9.482025e+05</td>\n",
       "      <td>1.115964e+06</td>\n",
       "      <td>0.000000</td>\n",
       "      <td>0.000000</td>\n",
       "      <td>0.000000</td>\n",
       "      <td>0.000000</td>\n",
       "      <td>1.000000</td>\n",
       "      <td>1.0</td>\n",
       "      <td>1.000000</td>\n",
       "    </tr>\n",
       "    <tr>\n",
       "      <th>max</th>\n",
       "      <td>742.000000</td>\n",
       "      <td>6.933732e+07</td>\n",
       "      <td>4.039905e+07</td>\n",
       "      <td>3.795009e+07</td>\n",
       "      <td>3.553805e+08</td>\n",
       "      <td>3.560159e+08</td>\n",
       "      <td>1.000000</td>\n",
       "      <td>1.000000</td>\n",
       "      <td>626.000000</td>\n",
       "      <td>1.000000</td>\n",
       "      <td>1.000000</td>\n",
       "      <td>1.0</td>\n",
       "      <td>5.000000</td>\n",
       "    </tr>\n",
       "  </tbody>\n",
       "</table>\n",
       "</div>"
      ],
      "text/plain": [
       "                 step        amount  oldbalanceOrg  newbalanceOrig  \\\n",
       "count  1000000.000000  1.000000e+06   1.000000e+06    1.000000e+06   \n",
       "mean       243.512303  1.804999e+05   8.319644e+05    8.534179e+05   \n",
       "std        142.415978  6.170112e+05   2.884868e+06    2.921068e+06   \n",
       "min          1.000000  0.000000e+00   0.000000e+00    0.000000e+00   \n",
       "25%        156.000000  1.336029e+04   0.000000e+00    0.000000e+00   \n",
       "50%        239.000000  7.487864e+04   1.425613e+04    0.000000e+00   \n",
       "75%        335.000000  2.092836e+05   1.071842e+05    1.443272e+05   \n",
       "max        742.000000  6.933732e+07   4.039905e+07    3.795009e+07   \n",
       "\n",
       "       oldbalanceDest  newbalanceDest         isFraud  isFlaggedFraud  \\\n",
       "count    1.000000e+06    1.000000e+06  1000000.000000  1000000.000000   \n",
       "mean     1.105606e+06    1.230483e+06        0.001266        0.000003   \n",
       "std      3.417108e+06    3.698862e+06        0.035558        0.001732   \n",
       "min      0.000000e+00    0.000000e+00        0.000000        0.000000   \n",
       "25%      0.000000e+00    0.000000e+00        0.000000        0.000000   \n",
       "50%      1.329588e+05    2.153516e+05        0.000000        0.000000   \n",
       "75%      9.482025e+05    1.115964e+06        0.000000        0.000000   \n",
       "max      3.553805e+08    3.560159e+08        1.000000        1.000000   \n",
       "\n",
       "       time_since_last_transaction   is_new_device  \\\n",
       "count               1000000.000000  1000000.000000   \n",
       "mean                      0.036100        0.050000   \n",
       "std                       2.985462        0.217945   \n",
       "min                       0.000000        0.000000   \n",
       "25%                       0.000000        0.000000   \n",
       "50%                       0.000000        0.000000   \n",
       "75%                       0.000000        0.000000   \n",
       "max                     626.000000        1.000000   \n",
       "\n",
       "       amount_fraction_of_balance  is_new_destination   LoginAttempts  \n",
       "count              1000000.000000           1000000.0  1000000.000000  \n",
       "mean                     0.385261                 1.0        1.121309  \n",
       "std                      0.448322                 0.0        0.385413  \n",
       "min                      0.000000                 1.0        1.000000  \n",
       "25%                      0.000000                 1.0        1.000000  \n",
       "50%                      0.076919                 1.0        1.000000  \n",
       "75%                      1.000000                 1.0        1.000000  \n",
       "max                      1.000000                 1.0        5.000000  "
      ]
     },
     "execution_count": 9,
     "metadata": {},
     "output_type": "execute_result"
    }
   ],
   "source": [
    "df.describe()"
   ]
  },
  {
   "cell_type": "code",
   "execution_count": 10,
   "id": "d66a33a8",
   "metadata": {},
   "outputs": [
    {
     "data": {
      "text/plain": [
       "step                           0\n",
       "type                           0\n",
       "amount                         0\n",
       "nameOrig                       0\n",
       "oldbalanceOrg                  0\n",
       "newbalanceOrig                 0\n",
       "nameDest                       0\n",
       "oldbalanceDest                 0\n",
       "newbalanceDest                 0\n",
       "isFraud                        0\n",
       "isFlaggedFraud                 0\n",
       "transaction_type               0\n",
       "channel                        0\n",
       "transaction_time               0\n",
       "time_since_last_transaction    0\n",
       "is_new_device                  0\n",
       "amount_fraction_of_balance     0\n",
       "is_new_destination             0\n",
       "LoginAttempts                  0\n",
       "dtype: int64"
      ]
     },
     "execution_count": 10,
     "metadata": {},
     "output_type": "execute_result"
    }
   ],
   "source": [
    "df.isnull().sum()"
   ]
  },
  {
   "cell_type": "code",
   "execution_count": 11,
   "id": "d07701f1",
   "metadata": {},
   "outputs": [
    {
     "data": {
      "text/plain": [
       "(1000000, 19)"
      ]
     },
     "execution_count": 11,
     "metadata": {},
     "output_type": "execute_result"
    }
   ],
   "source": [
    "df.shape"
   ]
  },
  {
   "cell_type": "code",
   "execution_count": 12,
   "id": "2e882a9f",
   "metadata": {},
   "outputs": [
    {
     "data": {
      "text/html": [
       "<div>\n",
       "<style scoped>\n",
       "    .dataframe tbody tr th:only-of-type {\n",
       "        vertical-align: middle;\n",
       "    }\n",
       "\n",
       "    .dataframe tbody tr th {\n",
       "        vertical-align: top;\n",
       "    }\n",
       "\n",
       "    .dataframe thead th {\n",
       "        text-align: right;\n",
       "    }\n",
       "</style>\n",
       "<table border=\"1\" class=\"dataframe\">\n",
       "  <thead>\n",
       "    <tr style=\"text-align: right;\">\n",
       "      <th></th>\n",
       "      <th>step</th>\n",
       "      <th>type</th>\n",
       "      <th>amount</th>\n",
       "      <th>nameOrig</th>\n",
       "      <th>oldbalanceOrg</th>\n",
       "      <th>newbalanceOrig</th>\n",
       "      <th>nameDest</th>\n",
       "      <th>oldbalanceDest</th>\n",
       "      <th>newbalanceDest</th>\n",
       "      <th>isFraud</th>\n",
       "      <th>isFlaggedFraud</th>\n",
       "      <th>transaction_type</th>\n",
       "      <th>channel</th>\n",
       "      <th>transaction_time</th>\n",
       "      <th>time_since_last_transaction</th>\n",
       "      <th>is_new_device</th>\n",
       "      <th>amount_fraction_of_balance</th>\n",
       "      <th>is_new_destination</th>\n",
       "      <th>LoginAttempts</th>\n",
       "    </tr>\n",
       "  </thead>\n",
       "  <tbody>\n",
       "  </tbody>\n",
       "</table>\n",
       "</div>"
      ],
      "text/plain": [
       "Empty DataFrame\n",
       "Columns: [step, type, amount, nameOrig, oldbalanceOrg, newbalanceOrig, nameDest, oldbalanceDest, newbalanceDest, isFraud, isFlaggedFraud, transaction_type, channel, transaction_time, time_since_last_transaction, is_new_device, amount_fraction_of_balance, is_new_destination, LoginAttempts]\n",
       "Index: []"
      ]
     },
     "execution_count": 12,
     "metadata": {},
     "output_type": "execute_result"
    }
   ],
   "source": [
    "# check duplicates\n",
    "df[df.duplicated()].head()"
   ]
  },
  {
   "cell_type": "markdown",
   "id": "f96a72d0",
   "metadata": {},
   "source": [
    "## Exploratory Data Analysis (EDA)"
   ]
  },
  {
   "cell_type": "code",
   "execution_count": 13,
   "id": "01bb54bd",
   "metadata": {},
   "outputs": [
    {
     "data": {
      "text/plain": [
       "0    998734\n",
       "1      1266\n",
       "Name: isFraud, dtype: int64"
      ]
     },
     "execution_count": 13,
     "metadata": {},
     "output_type": "execute_result"
    }
   ],
   "source": [
    "# Checking for proportion of Fraud transactions\n",
    "df[\"isFraud\"].value_counts()"
   ]
  },
  {
   "cell_type": "code",
   "execution_count": 14,
   "id": "07c50fad",
   "metadata": {},
   "outputs": [
    {
     "data": {
      "text/plain": [
       "0.1266"
      ]
     },
     "execution_count": 14,
     "metadata": {},
     "output_type": "execute_result"
    }
   ],
   "source": [
    "#Percentage of Frauds\n",
    "df[\"isFraud\"].value_counts()[1] / df.shape[0] * 100"
   ]
  },
  {
   "cell_type": "code",
   "execution_count": 15,
   "id": "06986e58",
   "metadata": {},
   "outputs": [
    {
     "data": {
      "text/plain": [
       "(array([0, 1]), [Text(0, 0, 'non_fraud'), Text(1, 0, 'fraud')])"
      ]
     },
     "execution_count": 15,
     "metadata": {},
     "output_type": "execute_result"
    },
    {
     "data": {
      "image/png": "[encoded data removed]",
      "text/plain": [
       "<Figure size 360x288 with 1 Axes>"
      ]
     },
     "metadata": {},
     "output_type": "display_data"
    }
   ],
   "source": [
    "fraud_counts = df[\"isFraud\"].value_counts().rename({0: \"non_fraud\", 1: \"fraud\"})\n",
    "plt.figure(figsize=(5,4))\n",
    "fraud_counts.reindex([\"non_fraud\", \"fraud\"]).plot(kind=\"bar\")\n",
    "plt.title(\"Proportion of Fraud vs Non-Fraud\")\n",
    "plt.xlabel(\"isFraud\")\n",
    "plt.ylabel(\"Count\")\n",
    "plt.xticks(rotation=0)"
   ]
  },
  {
   "cell_type": "code",
   "execution_count": 16,
   "id": "c32fa72f",
   "metadata": {},
   "outputs": [
    {
     "data": {
      "image/png": "[encoded data removed]",
      "text/plain": [
       "<Figure size 432x288 with 1 Axes>"
      ]
     },
     "metadata": {},
     "output_type": "display_data"
    }
   ],
   "source": [
    "# Visualzation transaction types\n",
    "df[\"transaction_type\"].value_counts().plot(kind =\"bar\", title=\"Transaction types\", color=\"blue\")\n",
    "plt.xlabel(\"Transaction\")\n",
    "plt.ylabel(\"Count\")\n",
    "plt.show()"
   ]
  },
  {
   "cell_type": "code",
   "execution_count": 17,
   "id": "877fe98b",
   "metadata": {},
   "outputs": [
    {
     "data": {
      "image/png": "[encoded data removed]",
      "text/plain": [
       "<Figure size 576x360 with 1 Axes>"
      ]
     },
     "metadata": {},
     "output_type": "display_data"
    }
   ],
   "source": [
    "# Fraud rate by transaction type\n",
    "fraud_per_type = df.groupby(\"transaction_type\")[\"isFraud\"].mean().sort_values(ascending=False)\n",
    "plt.figure(figsize=(8,5))\n",
    "sns.barplot(x=fraud_per_type.index, y=fraud_per_type.values, palette=\"viridis\")\n",
    "plt.ylabel(\"Fraud Rate\")\n",
    "plt.xlabel(\"Transaction Type\")\n",
    "plt.title(\"Fraud Rate by Transaction Type\")\n",
    "plt.show()\n"
   ]
  },
  {
   "cell_type": "code",
   "execution_count": 18,
   "id": "53ce1fe6",
   "metadata": {},
   "outputs": [
    {
     "data": {
      "image/png": "[encoded data removed]",
      "text/plain": [
       "<Figure size 576x360 with 1 Axes>"
      ]
     },
     "metadata": {},
     "output_type": "display_data"
    }
   ],
   "source": [
    "# Fraud rate by Channel\n",
    "fraud_per_channel = df.groupby(\"channel\")[\"isFraud\"].mean().sort_values(ascending=False)\n",
    "plt.figure(figsize=(8,5))\n",
    "sns.barplot(x=fraud_per_channel.index, y=fraud_per_channel.values, palette = \"viridis\")\n",
    "plt.title(\"Fraud per channel\")\n",
    "plt.xlabel(\"Channels\")\n",
    "plt.ylabel(\"isFraud\")\n",
    "plt.show()"
   ]
  },
  {
   "cell_type": "code",
   "execution_count": 19,
   "id": "c0f5515d",
   "metadata": {},
   "outputs": [
    {
     "data": {
      "image/png": "[encoded data removed]",
      "text/plain": [
       "<Figure size 720x360 with 1 Axes>"
      ]
     },
     "metadata": {},
     "output_type": "display_data"
    }
   ],
   "source": [
    "# Distribution of transaction_type by Channel\n",
    "fraud_analysis = df.groupby([\"channel\",\"transaction_type\"])[\"nameOrig\"].count().reset_index()\n",
    "fraud_analysis.columns = [\"channel\", \"transaction_type\", \"count\"]\n",
    "plt.figure(figsize=(10,5))\n",
    "sns.barplot(data=fraud_analysis, x=\"channel\", hue=\"transaction_type\", y= \"count\", palette=\"viridis\")\n",
    "plt.title(\"Distribution of Transaction types by channel\")\n",
    "plt.xlabel(\"Channels\")\n",
    "plt.ylabel(\"Number of Transactions\")\n",
    "plt.show()"
   ]
  },
  {
   "cell_type": "code",
   "execution_count": 20,
   "id": "6772e8d4",
   "metadata": {},
   "outputs": [
    {
     "data": {
      "text/html": [
       "<div>\n",
       "<style scoped>\n",
       "    .dataframe tbody tr th:only-of-type {\n",
       "        vertical-align: middle;\n",
       "    }\n",
       "\n",
       "    .dataframe tbody tr th {\n",
       "        vertical-align: top;\n",
       "    }\n",
       "\n",
       "    .dataframe thead th {\n",
       "        text-align: right;\n",
       "    }\n",
       "</style>\n",
       "<table border=\"1\" class=\"dataframe\">\n",
       "  <thead>\n",
       "    <tr style=\"text-align: right;\">\n",
       "      <th>channel</th>\n",
       "      <th>atm</th>\n",
       "      <th>branch</th>\n",
       "      <th>mobile_app</th>\n",
       "      <th>phone_banking</th>\n",
       "      <th>pos_terminal</th>\n",
       "      <th>web</th>\n",
       "    </tr>\n",
       "    <tr>\n",
       "      <th>transaction_type</th>\n",
       "      <th></th>\n",
       "      <th></th>\n",
       "      <th></th>\n",
       "      <th></th>\n",
       "      <th></th>\n",
       "      <th></th>\n",
       "    </tr>\n",
       "  </thead>\n",
       "  <tbody>\n",
       "    <tr>\n",
       "      <th>Debit</th>\n",
       "      <td>0.000000</td>\n",
       "      <td>0.000000</td>\n",
       "      <td>0.00000</td>\n",
       "      <td>0.000000</td>\n",
       "      <td>0.000000</td>\n",
       "      <td>0.000000</td>\n",
       "    </tr>\n",
       "    <tr>\n",
       "      <th>Deposit</th>\n",
       "      <td>0.000000</td>\n",
       "      <td>0.000000</td>\n",
       "      <td>0.00000</td>\n",
       "      <td>0.000000</td>\n",
       "      <td>0.000000</td>\n",
       "      <td>0.000000</td>\n",
       "    </tr>\n",
       "    <tr>\n",
       "      <th>Payment</th>\n",
       "      <td>0.000000</td>\n",
       "      <td>0.000000</td>\n",
       "      <td>0.00000</td>\n",
       "      <td>0.000000</td>\n",
       "      <td>0.000000</td>\n",
       "      <td>0.000000</td>\n",
       "    </tr>\n",
       "    <tr>\n",
       "      <th>Transfer</th>\n",
       "      <td>0.007493</td>\n",
       "      <td>0.007855</td>\n",
       "      <td>0.00811</td>\n",
       "      <td>0.008393</td>\n",
       "      <td>0.007639</td>\n",
       "      <td>0.006726</td>\n",
       "    </tr>\n",
       "    <tr>\n",
       "      <th>Withdrawal</th>\n",
       "      <td>0.001783</td>\n",
       "      <td>0.002346</td>\n",
       "      <td>0.00182</td>\n",
       "      <td>0.001678</td>\n",
       "      <td>0.001928</td>\n",
       "      <td>0.001651</td>\n",
       "    </tr>\n",
       "  </tbody>\n",
       "</table>\n",
       "</div>"
      ],
      "text/plain": [
       "channel                atm    branch  mobile_app  phone_banking  pos_terminal  \\\n",
       "transaction_type                                                                \n",
       "Debit             0.000000  0.000000     0.00000       0.000000      0.000000   \n",
       "Deposit           0.000000  0.000000     0.00000       0.000000      0.000000   \n",
       "Payment           0.000000  0.000000     0.00000       0.000000      0.000000   \n",
       "Transfer          0.007493  0.007855     0.00811       0.008393      0.007639   \n",
       "Withdrawal        0.001783  0.002346     0.00182       0.001678      0.001928   \n",
       "\n",
       "channel                web  \n",
       "transaction_type            \n",
       "Debit             0.000000  \n",
       "Deposit           0.000000  \n",
       "Payment           0.000000  \n",
       "Transfer          0.006726  \n",
       "Withdrawal        0.001651  "
      ]
     },
     "execution_count": 20,
     "metadata": {},
     "output_type": "execute_result"
    }
   ],
   "source": [
    "fraudrate_crosstab = pd.crosstab(index=df[\"transaction_type\"],columns=df[\"channel\"], values=df[\"isFraud\"], aggfunc=\"mean\",\n",
    "    )\n",
    "\n",
    "fraudrate_crosstab"
   ]
  },
  {
   "cell_type": "code",
   "execution_count": 21,
   "id": "1c97abbd",
   "metadata": {},
   "outputs": [
    {
     "data": {
      "image/png": "[encoded data removed]",
      "text/plain": [
       "<Figure size 720x432 with 2 Axes>"
      ]
     },
     "metadata": {},
     "output_type": "display_data"
    }
   ],
   "source": [
    "plt.figure(figsize=(10,6))\n",
    "sns.heatmap(fraudrate_crosstab, annot=True, fmt=\".2%\", cmap=\"Reds\")\n",
    "plt.title(\"Fraud Rate by Transaction Type × Channel\")\n",
    "plt.ylabel(\"Transaction Type\")\n",
    "plt.xlabel(\"Channel\")\n",
    "plt.show()"
   ]
  },
  {
   "cell_type": "code",
   "execution_count": 22,
   "id": "7452aef9",
   "metadata": {},
   "outputs": [
    {
     "data": {
      "text/html": [
       "<div>\n",
       "<style scoped>\n",
       "    .dataframe tbody tr th:only-of-type {\n",
       "        vertical-align: middle;\n",
       "    }\n",
       "\n",
       "    .dataframe tbody tr th {\n",
       "        vertical-align: top;\n",
       "    }\n",
       "\n",
       "    .dataframe thead th {\n",
       "        text-align: right;\n",
       "    }\n",
       "</style>\n",
       "<table border=\"1\" class=\"dataframe\">\n",
       "  <thead>\n",
       "    <tr style=\"text-align: right;\">\n",
       "      <th></th>\n",
       "      <th>count</th>\n",
       "      <th>mean</th>\n",
       "      <th>std</th>\n",
       "      <th>min</th>\n",
       "      <th>25%</th>\n",
       "      <th>50%</th>\n",
       "      <th>75%</th>\n",
       "      <th>max</th>\n",
       "    </tr>\n",
       "    <tr>\n",
       "      <th>isFraud</th>\n",
       "      <th></th>\n",
       "      <th></th>\n",
       "      <th></th>\n",
       "      <th></th>\n",
       "      <th></th>\n",
       "      <th></th>\n",
       "      <th></th>\n",
       "      <th></th>\n",
       "    </tr>\n",
       "  </thead>\n",
       "  <tbody>\n",
       "    <tr>\n",
       "      <th>0</th>\n",
       "      <td>998734</td>\n",
       "      <td>178989</td>\n",
       "      <td>610507</td>\n",
       "      <td>0</td>\n",
       "      <td>13340</td>\n",
       "      <td>74699</td>\n",
       "      <td>208928</td>\n",
       "      <td>69337316</td>\n",
       "    </tr>\n",
       "    <tr>\n",
       "      <th>1</th>\n",
       "      <td>1266</td>\n",
       "      <td>1371752</td>\n",
       "      <td>2293833</td>\n",
       "      <td>0</td>\n",
       "      <td>127467</td>\n",
       "      <td>441651</td>\n",
       "      <td>1416444</td>\n",
       "      <td>10000000</td>\n",
       "    </tr>\n",
       "  </tbody>\n",
       "</table>\n",
       "</div>"
      ],
      "text/plain": [
       "          count     mean      std  min     25%     50%      75%       max\n",
       "isFraud                                                                  \n",
       "0        998734   178989   610507    0   13340   74699   208928  69337316\n",
       "1          1266  1371752  2293833    0  127467  441651  1416444  10000000"
      ]
     },
     "execution_count": 22,
     "metadata": {},
     "output_type": "execute_result"
    }
   ],
   "source": [
    "# Amount summary statistics\n",
    "df.groupby(\"isFraud\")[\"amount\"].describe().astype(int)"
   ]
  },
  {
   "cell_type": "code",
   "execution_count": 23,
   "id": "2a4ab914",
   "metadata": {},
   "outputs": [
    {
     "data": {
      "image/png": "[encoded data removed]",
      "text/plain": [
       "<Figure size 576x360 with 1 Axes>"
      ]
     },
     "metadata": {},
     "output_type": "display_data"
    }
   ],
   "source": [
    "# Distribution plot (log scale for skewed amounts)\n",
    "plt.figure(figsize=(8,5))\n",
    "sns.histplot(np.log1p(df[\"amount\"]), bins=100,kde=True, color=\"green\")\n",
    "plt.title(\"Transaction Amount Distribution (log scale)\")\n",
    "plt.xlabel(\"Transaction Amount (log scale)\")\n",
    "plt.ylabel(\"Count\")\n",
    "#plt.legend(title=\"isFraud\", labels=[\"Non-Fraud\", \"Fraud\"])\n",
    "plt.tight_layout()\n",
    "plt.show()"
   ]
  },
  {
   "cell_type": "code",
   "execution_count": 24,
   "id": "57d4cc21",
   "metadata": {},
   "outputs": [
    {
     "data": {
      "image/png": "[encoded data removed]",
      "text/plain": [
       "<Figure size 720x432 with 1 Axes>"
      ]
     },
     "metadata": {},
     "output_type": "display_data"
    }
   ],
   "source": [
    "# Define bins again\n",
    "bins = [0, 10, 100, 1000, 10000, 100000, df[\"amount\"].max()]\n",
    "labels = [\"<10\", \"10-100\", \"100-1k\", \"1k-10k\", \"10k-100k\", \"100k+\"]\n",
    "\n",
    "df[\"amount_bin\"] = pd.cut(df[\"amount\"], bins=bins, labels=labels, include_lowest=True)\n",
    "\n",
    "# Fraud rate per bin\n",
    "fraud_by_amount = df.groupby(\"amount_bin\")[\"isFraud\"].mean().reset_index()\n",
    "\n",
    "# ---- Boxplot of amounts per bin, split by fraud\n",
    "plt.figure(figsize=(10,6))\n",
    "sns.boxplot(data=df, x=\"amount_bin\", y=\"amount\", hue=\"isFraud\", showfliers=False)\n",
    "plt.yscale(\"log\")\n",
    "plt.title(\"Transaction Amounts by Bin — Fraud vs Non-Fraud\")\n",
    "plt.xlabel(\"Transaction Amount Bin\")\n",
    "plt.ylabel(\"Transaction Amount (log scale)\")\n",
    "plt.legend(title=\"Fraud\")\n",
    "plt.tight_layout()\n",
    "plt.show()"
   ]
  },
  {
   "cell_type": "code",
   "execution_count": 25,
   "id": "98a43dd6",
   "metadata": {
    "scrolled": true
   },
   "outputs": [
    {
     "name": "stdout",
     "output_type": "stream",
     "text": [
      "Fraud Rate by Device Type:\n",
      "   is_new_device  isFraud\n",
      "0              0  0.00000\n",
      "1              1  0.02532\n"
     ]
    },
    {
     "data": {
      "image/png": "[encoded data removed]",
      "text/plain": [
       "<Figure size 432x288 with 1 Axes>"
      ]
     },
     "metadata": {},
     "output_type": "display_data"
    }
   ],
   "source": [
    "fraud_device = df.groupby(\"is_new_device\")[\"isFraud\"].mean().reset_index()\n",
    "\n",
    "print(\"Fraud Rate by Device Type:\")\n",
    "print(fraud_device)\n",
    "\n",
    "plt.figure(figsize=(6,4))\n",
    "sns.barplot(data=fraud_device, x=\"is_new_device\", y=\"isFraud\", palette=\"Set2\")\n",
    "plt.title(\"Fraud Rate by New Device Usage\")\n",
    "plt.xlabel(\"Is New Device (0=No, 1=Yes)\")\n",
    "plt.ylabel(\"Fraud Rate\")\n",
    "plt.xticks([0,1], [\"Existing Device\", \"New Device\"])\n",
    "plt.tight_layout()\n",
    "plt.show()"
   ]
  },
  {
   "cell_type": "code",
   "execution_count": 26,
   "id": "eb7277de",
   "metadata": {
    "scrolled": true
   },
   "outputs": [
    {
     "data": {
      "text/plain": [
       "0.0      999772\n",
       "4.0           4\n",
       "144.0         3\n",
       "192.0         3\n",
       "26.0          3\n",
       "          ...  \n",
       "43.0          1\n",
       "372.0         1\n",
       "505.0         1\n",
       "242.0         1\n",
       "357.0         1\n",
       "Name: time_since_last_transaction, Length: 165, dtype: int64"
      ]
     },
     "execution_count": 26,
     "metadata": {},
     "output_type": "execute_result"
    }
   ],
   "source": [
    "df[\"time_since_last_transaction\"].value_counts()"
   ]
  },
  {
   "cell_type": "code",
   "execution_count": 27,
   "id": "ffb2fa78",
   "metadata": {},
   "outputs": [
    {
     "name": "stdout",
     "output_type": "stream",
     "text": [
      "\n",
      "Fraud Rate by Repeat Customers:\n",
      "   is_repeat_customer  isFraud\n",
      "0                   0     1266\n",
      "1                   1        0\n"
     ]
    }
   ],
   "source": [
    "# Count transactions per customer\n",
    "txn_counts = df[\"nameOrig\"].value_counts()\n",
    "df[\"is_repeat_customer\"] = df[\"nameOrig\"].isin(txn_counts[txn_counts > 1].index).astype(int)\n",
    "\n",
    "fraud_repeat = df.groupby(\"is_repeat_customer\")[\"isFraud\"].sum().reset_index()\n",
    "\n",
    "print(\"\\nFraud Rate by Repeat Customers:\")\n",
    "print(fraud_repeat)"
   ]
  },
  {
   "cell_type": "code",
   "execution_count": 28,
   "id": "bd2d142e",
   "metadata": {
    "scrolled": false
   },
   "outputs": [
    {
     "name": "stdout",
     "output_type": "stream",
     "text": [
      "      nameOrig  total_txns  fraud_txns  fraud_rate\n",
      "0  C1000001337           1           0         0.0\n",
      "1  C1000009135           1           0         0.0\n",
      "2   C100001401           1           0         0.0\n",
      "3  C1000015836           1           0         0.0\n",
      "4  C1000018217           1           0         0.0\n"
     ]
    }
   ],
   "source": [
    "# Transactions per customer (nameOrig = customer ID)\n",
    "txn_per_customer = df.groupby(\"nameOrig\").agg(\n",
    "    total_txns=(\"isFraud\", \"count\"),   # total transactions per customer\n",
    "    fraud_txns=(\"isFraud\", \"sum\")      # fraudulent transactions per customer\n",
    ").reset_index()\n",
    "\n",
    "# Add fraud rate per customer\n",
    "txn_per_customer[\"fraud_rate\"] = txn_per_customer[\"fraud_txns\"] / txn_per_customer[\"total_txns\"]\n",
    "\n",
    "print(txn_per_customer.head())"
   ]
  },
  {
   "cell_type": "markdown",
   "id": "26e79dd3",
   "metadata": {},
   "source": [
    "### How many customers are repeat vs single-use?"
   ]
  },
  {
   "cell_type": "code",
   "execution_count": 29,
   "id": "b55a5e11",
   "metadata": {
    "scrolled": false
   },
   "outputs": [
    {
     "data": {
      "text/plain": [
       "1    999538\n",
       "2       231\n",
       "Name: total_txns, dtype: int64"
      ]
     },
     "execution_count": 29,
     "metadata": {},
     "output_type": "execute_result"
    }
   ],
   "source": [
    "repeat_cust = txn_per_customer[\"total_txns\"].value_counts().sort_index()\n",
    "repeat_cust.head(10)"
   ]
  },
  {
   "cell_type": "markdown",
   "id": "f5edc330",
   "metadata": {},
   "source": [
    "### How many customers ever commit fraud?"
   ]
  },
  {
   "cell_type": "code",
   "execution_count": 30,
   "id": "e443f7e6",
   "metadata": {},
   "outputs": [
    {
     "data": {
      "text/plain": [
       "C1131453044    1\n",
       "C728984460     1\n",
       "C1444290021    1\n",
       "C94208509      1\n",
       "C1536280530    1\n",
       "C122285117     1\n",
       "C563591583     1\n",
       "C1011516202    1\n",
       "C1189870907    1\n",
       "C1255221578    1\n",
       "Name: nameOrig, dtype: int64"
      ]
     },
     "execution_count": 30,
     "metadata": {},
     "output_type": "execute_result"
    }
   ],
   "source": [
    "fraud_users = df[df[\"isFraud\"] == 1][\"nameOrig\"].value_counts().head(10)\n",
    "fraud_users\n",
    "\n",
    "#print(f\"Fraudulent customers: {fraud_customers}/{total_customers} \"\n",
    "     # f\"({fraud_customers/total_customers:.4%})\")"
   ]
  },
  {
   "cell_type": "markdown",
   "id": "edf6b8d0",
   "metadata": {},
   "source": [
    "### Fraud rate by repeat vs single-use customers"
   ]
  },
  {
   "cell_type": "code",
   "execution_count": 31,
   "id": "e3bc10a9",
   "metadata": {
    "scrolled": false
   },
   "outputs": [
    {
     "name": "stdout",
     "output_type": "stream",
     "text": [
      "is_repeat\n",
      "0    0.001267\n",
      "1    0.000000\n",
      "Name: fraud_rate, dtype: float64\n"
     ]
    }
   ],
   "source": [
    "txn_per_customer[\"is_repeat\"] = (txn_per_customer[\"total_txns\"] > 1).astype(int)\n",
    "\n",
    "fraud_by_repeat = txn_per_customer.groupby(\"is_repeat\")[\"fraud_rate\"].mean()\n",
    "print(fraud_by_repeat)\n"
   ]
  },
  {
   "cell_type": "code",
   "execution_count": 32,
   "id": "690d293d",
   "metadata": {},
   "outputs": [],
   "source": [
    "df[\"diffbalanceOrig\"] = df[\"oldbalanceOrg\"] - df[\"newbalanceOrig\"]\n",
    "df[\"diffbalanceDest\"] = df[\"newbalanceDest\"] - df[\"oldbalanceDest\"]"
   ]
  },
  {
   "cell_type": "code",
   "execution_count": 33,
   "id": "5fb39300",
   "metadata": {},
   "outputs": [
    {
     "data": {
      "text/plain": [
       "219951"
      ]
     },
     "execution_count": 33,
     "metadata": {},
     "output_type": "execute_result"
    }
   ],
   "source": [
    "(df[\"diffbalanceOrig\"]< 0).sum()"
   ]
  },
  {
   "cell_type": "code",
   "execution_count": 34,
   "id": "95dba250",
   "metadata": {},
   "outputs": [
    {
     "name": "stdout",
     "output_type": "stream",
     "text": [
      "Number of transactions during unusual hours: 390934\n"
     ]
    },
    {
     "data": {
      "text/plain": [
       "Text(0, 0.5, 'Count')"
      ]
     },
     "execution_count": 34,
     "metadata": {},
     "output_type": "execute_result"
    },
    {
     "data": {
      "image/png": "[encoded data removed]",
      "text/plain": [
       "<Figure size 720x360 with 1 Axes>"
      ]
     },
     "metadata": {},
     "output_type": "display_data"
    }
   ],
   "source": [
    "# Convert transaction_time to datetime\n",
    "df[\"transaction_time\"] = pd.to_datetime(df[\"transaction_time\"], errors=\"coerce\")\n",
    "df[\"transaction_hour\"] = df[\"transaction_time\"].dt.hour\n",
    "\n",
    "# Defining unusual hours (outside 8AM -6PM)\n",
    "unusual_hours = list(range(0,8)) + list(range(18,24))\n",
    "\n",
    "#filter transactions during unusual hours\n",
    "unusual_hours_txn = df[df[\"transaction_hour\"].isin(unusual_hours)]\n",
    "\n",
    "print(f\"Number of transactions during unusual hours: {len(unusual_hours_txn)}\")\n",
    "\n",
    "# Visualize transactions during unusual hours by type\n",
    "plt.figure(figsize=(10,5))\n",
    "sns.countplot(data=unusual_hours_txn, x=\"transaction_type\",palette=\"muted\")\n",
    "plt.title(\"Transaction during unusual hours by Transaction type\")\n",
    "plt.xlabel(\"Transaction type\")\n",
    "plt.ylabel(\"Count\")"
   ]
  },
  {
   "cell_type": "code",
   "execution_count": 35,
   "id": "410784f9",
   "metadata": {
    "scrolled": true
   },
   "outputs": [
    {
     "data": {
      "image/png": "[encoded data removed]",
      "text/plain": [
       "<Figure size 864x360 with 1 Axes>"
      ]
     },
     "metadata": {},
     "output_type": "display_data"
    }
   ],
   "source": [
    "# Fraud count per step\n",
    "fraud_per_step = df[df[\"isFraud\"] == 1][\"step\"].value_counts().sort_index()\n",
    "plt.figure(figsize=(12,5))\n",
    "plt.plot(fraud_per_step.index, fraud_per_step.values, label= \"Frauds per step\")\n",
    "plt.title(\"Fraudulent Transactions Over Steps (Time Progression)\")\n",
    "plt.xlabel(\"Step (hours since start)\")\n",
    "plt.ylabel(\"Number of Frauds\")\n",
    "plt.show()\n"
   ]
  },
  {
   "cell_type": "code",
   "execution_count": 36,
   "id": "23571b43",
   "metadata": {},
   "outputs": [
    {
     "data": {
      "text/plain": [
       "C54613684      2\n",
       "C246698625     2\n",
       "C1880754782    2\n",
       "C199101361     2\n",
       "C599116107     2\n",
       "C34591457      2\n",
       "C103372143     2\n",
       "C273247153     2\n",
       "C59633115      2\n",
       "C1559986513    2\n",
       "Name: nameOrig, dtype: int64"
      ]
     },
     "execution_count": 36,
     "metadata": {},
     "output_type": "execute_result"
    }
   ],
   "source": [
    "top_senders = df[\"nameOrig\"].value_counts().head(10)\n",
    "top_senders"
   ]
  },
  {
   "cell_type": "code",
   "execution_count": 37,
   "id": "0de2c606",
   "metadata": {},
   "outputs": [
    {
     "data": {
      "text/plain": [
       "C1234776885    24\n",
       "C1899073220    20\n",
       "C1379031360    19\n",
       "C1360767589    19\n",
       "C985934102     19\n",
       "C842729010     18\n",
       "C1262822392    18\n",
       "C998351292     18\n",
       "C1286084959    18\n",
       "C932583850     18\n",
       "Name: nameDest, dtype: int64"
      ]
     },
     "execution_count": 37,
     "metadata": {},
     "output_type": "execute_result"
    }
   ],
   "source": [
    "top_receivers = df[\"nameDest\"].value_counts().head(10)\n",
    "top_receivers"
   ]
  },
  {
   "cell_type": "code",
   "execution_count": 38,
   "id": "733b8fba",
   "metadata": {},
   "outputs": [],
   "source": [
    "corr = df[[\"amount\",\"oldbalanceOrg\",\"newbalanceOrig\",\"oldbalanceDest\",\"newbalanceDest\",\"isFraud\"]].corr()"
   ]
  },
  {
   "cell_type": "code",
   "execution_count": 39,
   "id": "237e711e",
   "metadata": {},
   "outputs": [
    {
     "data": {
      "text/html": [
       "<div>\n",
       "<style scoped>\n",
       "    .dataframe tbody tr th:only-of-type {\n",
       "        vertical-align: middle;\n",
       "    }\n",
       "\n",
       "    .dataframe tbody tr th {\n",
       "        vertical-align: top;\n",
       "    }\n",
       "\n",
       "    .dataframe thead th {\n",
       "        text-align: right;\n",
       "    }\n",
       "</style>\n",
       "<table border=\"1\" class=\"dataframe\">\n",
       "  <thead>\n",
       "    <tr style=\"text-align: right;\">\n",
       "      <th></th>\n",
       "      <th>amount</th>\n",
       "      <th>oldbalanceOrg</th>\n",
       "      <th>newbalanceOrig</th>\n",
       "      <th>oldbalanceDest</th>\n",
       "      <th>newbalanceDest</th>\n",
       "      <th>isFraud</th>\n",
       "    </tr>\n",
       "  </thead>\n",
       "  <tbody>\n",
       "    <tr>\n",
       "      <th>amount</th>\n",
       "      <td>1.000000</td>\n",
       "      <td>-0.003474</td>\n",
       "      <td>-0.007766</td>\n",
       "      <td>0.298407</td>\n",
       "      <td>0.465353</td>\n",
       "      <td>0.068739</td>\n",
       "    </tr>\n",
       "    <tr>\n",
       "      <th>oldbalanceOrg</th>\n",
       "      <td>-0.003474</td>\n",
       "      <td>1.000000</td>\n",
       "      <td>0.998880</td>\n",
       "      <td>0.065026</td>\n",
       "      <td>0.040808</td>\n",
       "      <td>0.008685</td>\n",
       "    </tr>\n",
       "    <tr>\n",
       "      <th>newbalanceOrig</th>\n",
       "      <td>-0.007766</td>\n",
       "      <td>0.998880</td>\n",
       "      <td>1.000000</td>\n",
       "      <td>0.066539</td>\n",
       "      <td>0.040628</td>\n",
       "      <td>-0.008164</td>\n",
       "    </tr>\n",
       "    <tr>\n",
       "      <th>oldbalanceDest</th>\n",
       "      <td>0.298407</td>\n",
       "      <td>0.065026</td>\n",
       "      <td>0.066539</td>\n",
       "      <td>1.000000</td>\n",
       "      <td>0.976578</td>\n",
       "      <td>-0.006629</td>\n",
       "    </tr>\n",
       "    <tr>\n",
       "      <th>newbalanceDest</th>\n",
       "      <td>0.465353</td>\n",
       "      <td>0.040808</td>\n",
       "      <td>0.040628</td>\n",
       "      <td>0.976578</td>\n",
       "      <td>1.000000</td>\n",
       "      <td>-0.000664</td>\n",
       "    </tr>\n",
       "    <tr>\n",
       "      <th>isFraud</th>\n",
       "      <td>0.068739</td>\n",
       "      <td>0.008685</td>\n",
       "      <td>-0.008164</td>\n",
       "      <td>-0.006629</td>\n",
       "      <td>-0.000664</td>\n",
       "      <td>1.000000</td>\n",
       "    </tr>\n",
       "  </tbody>\n",
       "</table>\n",
       "</div>"
      ],
      "text/plain": [
       "                  amount  oldbalanceOrg  newbalanceOrig  oldbalanceDest  \\\n",
       "amount          1.000000      -0.003474       -0.007766        0.298407   \n",
       "oldbalanceOrg  -0.003474       1.000000        0.998880        0.065026   \n",
       "newbalanceOrig -0.007766       0.998880        1.000000        0.066539   \n",
       "oldbalanceDest  0.298407       0.065026        0.066539        1.000000   \n",
       "newbalanceDest  0.465353       0.040808        0.040628        0.976578   \n",
       "isFraud         0.068739       0.008685       -0.008164       -0.006629   \n",
       "\n",
       "                newbalanceDest   isFraud  \n",
       "amount                0.465353  0.068739  \n",
       "oldbalanceOrg         0.040808  0.008685  \n",
       "newbalanceOrig        0.040628 -0.008164  \n",
       "oldbalanceDest        0.976578 -0.006629  \n",
       "newbalanceDest        1.000000 -0.000664  \n",
       "isFraud              -0.000664  1.000000  "
      ]
     },
     "execution_count": 39,
     "metadata": {},
     "output_type": "execute_result"
    }
   ],
   "source": [
    "corr"
   ]
  },
  {
   "cell_type": "code",
   "execution_count": 40,
   "id": "ab029244",
   "metadata": {},
   "outputs": [
    {
     "data": {
      "image/png": "[encoded data removed]",
      "text/plain": [
       "<Figure size 432x288 with 2 Axes>"
      ]
     },
     "metadata": {},
     "output_type": "display_data"
    }
   ],
   "source": [
    "sns.heatmap(corr, annot=True, cmap =\"coolwarm\", fmt = \".2f\")\n",
    "plt.title(\"Correlation Matrix\")\n",
    "plt.show()"
   ]
  },
  {
   "cell_type": "code",
   "execution_count": 41,
   "id": "8275e53d",
   "metadata": {},
   "outputs": [],
   "source": [
    "# Calculating empty account balance after transaction\n",
    "zero_after_transfer = df[\n",
    "    (df[\"oldbalanceOrg\"] > 0) &\n",
    "    (df[\"newbalanceOrig\"] == 0) &\n",
    "    (df[\"transaction_type\"].isin([\"Transfer\",\"Withdrawal\"]))\n",
    " ]"
   ]
  },
  {
   "cell_type": "code",
   "execution_count": 42,
   "id": "386d3222",
   "metadata": {},
   "outputs": [
    {
     "data": {
      "text/plain": [
       "186689"
      ]
     },
     "execution_count": 42,
     "metadata": {},
     "output_type": "execute_result"
    }
   ],
   "source": [
    "len(zero_after_transfer)"
   ]
  },
  {
   "cell_type": "code",
   "execution_count": 43,
   "id": "c896b472",
   "metadata": {},
   "outputs": [
    {
     "data": {
      "text/html": [
       "<div>\n",
       "<style scoped>\n",
       "    .dataframe tbody tr th:only-of-type {\n",
       "        vertical-align: middle;\n",
       "    }\n",
       "\n",
       "    .dataframe tbody tr th {\n",
       "        vertical-align: top;\n",
       "    }\n",
       "\n",
       "    .dataframe thead th {\n",
       "        text-align: right;\n",
       "    }\n",
       "</style>\n",
       "<table border=\"1\" class=\"dataframe\">\n",
       "  <thead>\n",
       "    <tr style=\"text-align: right;\">\n",
       "      <th></th>\n",
       "      <th>step</th>\n",
       "      <th>type</th>\n",
       "      <th>amount</th>\n",
       "      <th>nameOrig</th>\n",
       "      <th>oldbalanceOrg</th>\n",
       "      <th>newbalanceOrig</th>\n",
       "      <th>nameDest</th>\n",
       "      <th>oldbalanceDest</th>\n",
       "      <th>newbalanceDest</th>\n",
       "      <th>isFraud</th>\n",
       "      <th>...</th>\n",
       "      <th>time_since_last_transaction</th>\n",
       "      <th>is_new_device</th>\n",
       "      <th>amount_fraction_of_balance</th>\n",
       "      <th>is_new_destination</th>\n",
       "      <th>LoginAttempts</th>\n",
       "      <th>amount_bin</th>\n",
       "      <th>is_repeat_customer</th>\n",
       "      <th>diffbalanceOrig</th>\n",
       "      <th>diffbalanceDest</th>\n",
       "      <th>transaction_hour</th>\n",
       "    </tr>\n",
       "  </thead>\n",
       "  <tbody>\n",
       "    <tr>\n",
       "      <th>3</th>\n",
       "      <td>163</td>\n",
       "      <td>CASH_OUT</td>\n",
       "      <td>77027.49</td>\n",
       "      <td>C1000015836</td>\n",
       "      <td>19787.00</td>\n",
       "      <td>0.0</td>\n",
       "      <td>C941241676</td>\n",
       "      <td>0.0</td>\n",
       "      <td>77027.49</td>\n",
       "      <td>0</td>\n",
       "      <td>...</td>\n",
       "      <td>0.0</td>\n",
       "      <td>0</td>\n",
       "      <td>1.0</td>\n",
       "      <td>1</td>\n",
       "      <td>1</td>\n",
       "      <td>10k-100k</td>\n",
       "      <td>0</td>\n",
       "      <td>19787.00</td>\n",
       "      <td>77027.49</td>\n",
       "      <td>19</td>\n",
       "    </tr>\n",
       "    <tr>\n",
       "      <th>14</th>\n",
       "      <td>655</td>\n",
       "      <td>TRANSFER</td>\n",
       "      <td>253648.68</td>\n",
       "      <td>C1000036340</td>\n",
       "      <td>253648.68</td>\n",
       "      <td>0.0</td>\n",
       "      <td>C1958275811</td>\n",
       "      <td>0.0</td>\n",
       "      <td>0.00</td>\n",
       "      <td>1</td>\n",
       "      <td>...</td>\n",
       "      <td>0.0</td>\n",
       "      <td>1</td>\n",
       "      <td>1.0</td>\n",
       "      <td>1</td>\n",
       "      <td>2</td>\n",
       "      <td>100k+</td>\n",
       "      <td>0</td>\n",
       "      <td>253648.68</td>\n",
       "      <td>0.00</td>\n",
       "      <td>7</td>\n",
       "    </tr>\n",
       "    <tr>\n",
       "      <th>15</th>\n",
       "      <td>211</td>\n",
       "      <td>CASH_OUT</td>\n",
       "      <td>278883.60</td>\n",
       "      <td>C1000036998</td>\n",
       "      <td>27674.00</td>\n",
       "      <td>0.0</td>\n",
       "      <td>C472295300</td>\n",
       "      <td>0.0</td>\n",
       "      <td>278883.60</td>\n",
       "      <td>0</td>\n",
       "      <td>...</td>\n",
       "      <td>0.0</td>\n",
       "      <td>1</td>\n",
       "      <td>1.0</td>\n",
       "      <td>1</td>\n",
       "      <td>1</td>\n",
       "      <td>100k+</td>\n",
       "      <td>0</td>\n",
       "      <td>27674.00</td>\n",
       "      <td>278883.60</td>\n",
       "      <td>19</td>\n",
       "    </tr>\n",
       "    <tr>\n",
       "      <th>21</th>\n",
       "      <td>393</td>\n",
       "      <td>CASH_OUT</td>\n",
       "      <td>61997.99</td>\n",
       "      <td>C1000048932</td>\n",
       "      <td>130.00</td>\n",
       "      <td>0.0</td>\n",
       "      <td>C655566527</td>\n",
       "      <td>0.0</td>\n",
       "      <td>61997.99</td>\n",
       "      <td>0</td>\n",
       "      <td>...</td>\n",
       "      <td>0.0</td>\n",
       "      <td>0</td>\n",
       "      <td>1.0</td>\n",
       "      <td>1</td>\n",
       "      <td>1</td>\n",
       "      <td>10k-100k</td>\n",
       "      <td>0</td>\n",
       "      <td>130.00</td>\n",
       "      <td>61997.99</td>\n",
       "      <td>9</td>\n",
       "    </tr>\n",
       "    <tr>\n",
       "      <th>22</th>\n",
       "      <td>155</td>\n",
       "      <td>CASH_OUT</td>\n",
       "      <td>245438.01</td>\n",
       "      <td>C1000050651</td>\n",
       "      <td>90092.00</td>\n",
       "      <td>0.0</td>\n",
       "      <td>C1878588507</td>\n",
       "      <td>0.0</td>\n",
       "      <td>245438.01</td>\n",
       "      <td>0</td>\n",
       "      <td>...</td>\n",
       "      <td>0.0</td>\n",
       "      <td>0</td>\n",
       "      <td>1.0</td>\n",
       "      <td>1</td>\n",
       "      <td>1</td>\n",
       "      <td>100k+</td>\n",
       "      <td>0</td>\n",
       "      <td>90092.00</td>\n",
       "      <td>245438.01</td>\n",
       "      <td>11</td>\n",
       "    </tr>\n",
       "  </tbody>\n",
       "</table>\n",
       "<p>5 rows × 24 columns</p>\n",
       "</div>"
      ],
      "text/plain": [
       "    step      type     amount     nameOrig  oldbalanceOrg  newbalanceOrig  \\\n",
       "3    163  CASH_OUT   77027.49  C1000015836       19787.00             0.0   \n",
       "14   655  TRANSFER  253648.68  C1000036340      253648.68             0.0   \n",
       "15   211  CASH_OUT  278883.60  C1000036998       27674.00             0.0   \n",
       "21   393  CASH_OUT   61997.99  C1000048932         130.00             0.0   \n",
       "22   155  CASH_OUT  245438.01  C1000050651       90092.00             0.0   \n",
       "\n",
       "       nameDest  oldbalanceDest  newbalanceDest  isFraud  ...  \\\n",
       "3    C941241676             0.0        77027.49        0  ...   \n",
       "14  C1958275811             0.0            0.00        1  ...   \n",
       "15   C472295300             0.0       278883.60        0  ...   \n",
       "21   C655566527             0.0        61997.99        0  ...   \n",
       "22  C1878588507             0.0       245438.01        0  ...   \n",
       "\n",
       "    time_since_last_transaction is_new_device amount_fraction_of_balance  \\\n",
       "3                           0.0             0                        1.0   \n",
       "14                          0.0             1                        1.0   \n",
       "15                          0.0             1                        1.0   \n",
       "21                          0.0             0                        1.0   \n",
       "22                          0.0             0                        1.0   \n",
       "\n",
       "   is_new_destination  LoginAttempts  amount_bin  is_repeat_customer  \\\n",
       "3                   1              1    10k-100k                   0   \n",
       "14                  1              2       100k+                   0   \n",
       "15                  1              1       100k+                   0   \n",
       "21                  1              1    10k-100k                   0   \n",
       "22                  1              1       100k+                   0   \n",
       "\n",
       "    diffbalanceOrig  diffbalanceDest transaction_hour  \n",
       "3          19787.00         77027.49               19  \n",
       "14        253648.68             0.00                7  \n",
       "15         27674.00        278883.60               19  \n",
       "21           130.00         61997.99                9  \n",
       "22         90092.00        245438.01               11  \n",
       "\n",
       "[5 rows x 24 columns]"
      ]
     },
     "execution_count": 43,
     "metadata": {},
     "output_type": "execute_result"
    }
   ],
   "source": [
    "zero_after_transfer.head()"
   ]
  },
  {
   "cell_type": "code",
   "execution_count": 44,
   "id": "200ba81f",
   "metadata": {},
   "outputs": [
    {
     "name": "stdout",
     "output_type": "stream",
     "text": [
      "Number of transactions with large balance changes: 43108\n"
     ]
    }
   ],
   "source": [
    "# Calculate change in balance for each transactions, considering transaction_type\n",
    "df[\"BalanceChange\"] = df.apply(\n",
    "    lambda row:row[\"oldbalanceOrg\"] - row[\"amount\"] if row[\"transaction_type\"] == [\"Transfer\", \"Withdrawal\",\"Debit\"]\n",
    "    else row[\"oldbalanceOrg\"] + row[\"amount\"],\n",
    "    axis =1\n",
    ")\n",
    "\n",
    "# Detecting large balance change based on threshold ( e.g 2 standard deviation)\n",
    "balance_change_threshold = df[\"BalanceChange\"].mean() + 2*df[\"BalanceChange\"].std()\n",
    "large_balance_changes = df[df[\"BalanceChange\"].abs() > balance_change_threshold]\n",
    "print(f\"Number of transactions with large balance changes: {len(large_balance_changes)}\")"
   ]
  },
  {
   "cell_type": "code",
   "execution_count": 45,
   "id": "744206c7",
   "metadata": {},
   "outputs": [
    {
     "data": {
      "text/html": [
       "<div>\n",
       "<style scoped>\n",
       "    .dataframe tbody tr th:only-of-type {\n",
       "        vertical-align: middle;\n",
       "    }\n",
       "\n",
       "    .dataframe tbody tr th {\n",
       "        vertical-align: top;\n",
       "    }\n",
       "\n",
       "    .dataframe thead th {\n",
       "        text-align: right;\n",
       "    }\n",
       "</style>\n",
       "<table border=\"1\" class=\"dataframe\">\n",
       "  <thead>\n",
       "    <tr style=\"text-align: right;\">\n",
       "      <th></th>\n",
       "      <th>step</th>\n",
       "      <th>type</th>\n",
       "      <th>amount</th>\n",
       "      <th>nameOrig</th>\n",
       "      <th>oldbalanceOrg</th>\n",
       "      <th>newbalanceOrig</th>\n",
       "      <th>nameDest</th>\n",
       "      <th>oldbalanceDest</th>\n",
       "      <th>newbalanceDest</th>\n",
       "      <th>isFraud</th>\n",
       "      <th>...</th>\n",
       "      <th>is_new_device</th>\n",
       "      <th>amount_fraction_of_balance</th>\n",
       "      <th>is_new_destination</th>\n",
       "      <th>LoginAttempts</th>\n",
       "      <th>amount_bin</th>\n",
       "      <th>is_repeat_customer</th>\n",
       "      <th>diffbalanceOrig</th>\n",
       "      <th>diffbalanceDest</th>\n",
       "      <th>transaction_hour</th>\n",
       "      <th>BalanceChange</th>\n",
       "    </tr>\n",
       "  </thead>\n",
       "  <tbody>\n",
       "    <tr>\n",
       "      <th>0</th>\n",
       "      <td>217</td>\n",
       "      <td>PAYMENT</td>\n",
       "      <td>3170.28</td>\n",
       "      <td>C1000001337</td>\n",
       "      <td>58089.00</td>\n",
       "      <td>54918.72</td>\n",
       "      <td>M216466820</td>\n",
       "      <td>0.00</td>\n",
       "      <td>0.00</td>\n",
       "      <td>0</td>\n",
       "      <td>...</td>\n",
       "      <td>1</td>\n",
       "      <td>0.054576</td>\n",
       "      <td>1</td>\n",
       "      <td>1</td>\n",
       "      <td>1k-10k</td>\n",
       "      <td>0</td>\n",
       "      <td>3170.28</td>\n",
       "      <td>0.00</td>\n",
       "      <td>1</td>\n",
       "      <td>61259.28</td>\n",
       "    </tr>\n",
       "    <tr>\n",
       "      <th>1</th>\n",
       "      <td>19</td>\n",
       "      <td>PAYMENT</td>\n",
       "      <td>3849.38</td>\n",
       "      <td>C1000009135</td>\n",
       "      <td>103120.55</td>\n",
       "      <td>99271.17</td>\n",
       "      <td>M2120765976</td>\n",
       "      <td>0.00</td>\n",
       "      <td>0.00</td>\n",
       "      <td>0</td>\n",
       "      <td>...</td>\n",
       "      <td>0</td>\n",
       "      <td>0.037329</td>\n",
       "      <td>1</td>\n",
       "      <td>1</td>\n",
       "      <td>1k-10k</td>\n",
       "      <td>0</td>\n",
       "      <td>3849.38</td>\n",
       "      <td>0.00</td>\n",
       "      <td>19</td>\n",
       "      <td>106969.93</td>\n",
       "    </tr>\n",
       "    <tr>\n",
       "      <th>2</th>\n",
       "      <td>302</td>\n",
       "      <td>PAYMENT</td>\n",
       "      <td>17686.93</td>\n",
       "      <td>C100001401</td>\n",
       "      <td>104117.89</td>\n",
       "      <td>86430.95</td>\n",
       "      <td>M70139133</td>\n",
       "      <td>0.00</td>\n",
       "      <td>0.00</td>\n",
       "      <td>0</td>\n",
       "      <td>...</td>\n",
       "      <td>0</td>\n",
       "      <td>0.169874</td>\n",
       "      <td>1</td>\n",
       "      <td>1</td>\n",
       "      <td>10k-100k</td>\n",
       "      <td>0</td>\n",
       "      <td>17686.94</td>\n",
       "      <td>0.00</td>\n",
       "      <td>14</td>\n",
       "      <td>121804.82</td>\n",
       "    </tr>\n",
       "    <tr>\n",
       "      <th>3</th>\n",
       "      <td>163</td>\n",
       "      <td>CASH_OUT</td>\n",
       "      <td>77027.49</td>\n",
       "      <td>C1000015836</td>\n",
       "      <td>19787.00</td>\n",
       "      <td>0.00</td>\n",
       "      <td>C941241676</td>\n",
       "      <td>0.00</td>\n",
       "      <td>77027.49</td>\n",
       "      <td>0</td>\n",
       "      <td>...</td>\n",
       "      <td>0</td>\n",
       "      <td>1.000000</td>\n",
       "      <td>1</td>\n",
       "      <td>1</td>\n",
       "      <td>10k-100k</td>\n",
       "      <td>0</td>\n",
       "      <td>19787.00</td>\n",
       "      <td>77027.49</td>\n",
       "      <td>19</td>\n",
       "      <td>96814.49</td>\n",
       "    </tr>\n",
       "    <tr>\n",
       "      <th>4</th>\n",
       "      <td>96</td>\n",
       "      <td>CASH_OUT</td>\n",
       "      <td>290045.17</td>\n",
       "      <td>C1000018217</td>\n",
       "      <td>0.00</td>\n",
       "      <td>0.00</td>\n",
       "      <td>C187378283</td>\n",
       "      <td>914750.06</td>\n",
       "      <td>1204795.23</td>\n",
       "      <td>0</td>\n",
       "      <td>...</td>\n",
       "      <td>0</td>\n",
       "      <td>0.000000</td>\n",
       "      <td>1</td>\n",
       "      <td>1</td>\n",
       "      <td>100k+</td>\n",
       "      <td>0</td>\n",
       "      <td>0.00</td>\n",
       "      <td>290045.17</td>\n",
       "      <td>0</td>\n",
       "      <td>290045.17</td>\n",
       "    </tr>\n",
       "  </tbody>\n",
       "</table>\n",
       "<p>5 rows × 25 columns</p>\n",
       "</div>"
      ],
      "text/plain": [
       "   step      type     amount     nameOrig  oldbalanceOrg  newbalanceOrig  \\\n",
       "0   217   PAYMENT    3170.28  C1000001337       58089.00        54918.72   \n",
       "1    19   PAYMENT    3849.38  C1000009135      103120.55        99271.17   \n",
       "2   302   PAYMENT   17686.93   C100001401      104117.89        86430.95   \n",
       "3   163  CASH_OUT   77027.49  C1000015836       19787.00            0.00   \n",
       "4    96  CASH_OUT  290045.17  C1000018217           0.00            0.00   \n",
       "\n",
       "      nameDest  oldbalanceDest  newbalanceDest  isFraud  ...  is_new_device  \\\n",
       "0   M216466820            0.00            0.00        0  ...              1   \n",
       "1  M2120765976            0.00            0.00        0  ...              0   \n",
       "2    M70139133            0.00            0.00        0  ...              0   \n",
       "3   C941241676            0.00        77027.49        0  ...              0   \n",
       "4   C187378283       914750.06      1204795.23        0  ...              0   \n",
       "\n",
       "  amount_fraction_of_balance is_new_destination LoginAttempts  amount_bin  \\\n",
       "0                   0.054576                  1             1      1k-10k   \n",
       "1                   0.037329                  1             1      1k-10k   \n",
       "2                   0.169874                  1             1    10k-100k   \n",
       "3                   1.000000                  1             1    10k-100k   \n",
       "4                   0.000000                  1             1       100k+   \n",
       "\n",
       "   is_repeat_customer  diffbalanceOrig  diffbalanceDest  transaction_hour  \\\n",
       "0                   0          3170.28             0.00                 1   \n",
       "1                   0          3849.38             0.00                19   \n",
       "2                   0         17686.94             0.00                14   \n",
       "3                   0         19787.00         77027.49                19   \n",
       "4                   0             0.00        290045.17                 0   \n",
       "\n",
       "  BalanceChange  \n",
       "0      61259.28  \n",
       "1     106969.93  \n",
       "2     121804.82  \n",
       "3      96814.49  \n",
       "4     290045.17  \n",
       "\n",
       "[5 rows x 25 columns]"
      ]
     },
     "execution_count": 45,
     "metadata": {},
     "output_type": "execute_result"
    }
   ],
   "source": [
    "df.head()"
   ]
  },
  {
   "cell_type": "code",
   "execution_count": 46,
   "id": "12ae9730",
   "metadata": {},
   "outputs": [
    {
     "name": "stdout",
     "output_type": "stream",
     "text": [
      "Number of transactions with more than one login attempts: 100640\n"
     ]
    },
    {
     "data": {
      "text/html": [
       "<div>\n",
       "<style scoped>\n",
       "    .dataframe tbody tr th:only-of-type {\n",
       "        vertical-align: middle;\n",
       "    }\n",
       "\n",
       "    .dataframe tbody tr th {\n",
       "        vertical-align: top;\n",
       "    }\n",
       "\n",
       "    .dataframe thead th {\n",
       "        text-align: right;\n",
       "    }\n",
       "</style>\n",
       "<table border=\"1\" class=\"dataframe\">\n",
       "  <thead>\n",
       "    <tr style=\"text-align: right;\">\n",
       "      <th></th>\n",
       "      <th>step</th>\n",
       "      <th>type</th>\n",
       "      <th>amount</th>\n",
       "      <th>nameOrig</th>\n",
       "      <th>oldbalanceOrg</th>\n",
       "      <th>newbalanceOrig</th>\n",
       "      <th>nameDest</th>\n",
       "      <th>oldbalanceDest</th>\n",
       "      <th>newbalanceDest</th>\n",
       "      <th>isFraud</th>\n",
       "      <th>...</th>\n",
       "      <th>is_new_device</th>\n",
       "      <th>amount_fraction_of_balance</th>\n",
       "      <th>is_new_destination</th>\n",
       "      <th>LoginAttempts</th>\n",
       "      <th>amount_bin</th>\n",
       "      <th>is_repeat_customer</th>\n",
       "      <th>diffbalanceOrig</th>\n",
       "      <th>diffbalanceDest</th>\n",
       "      <th>transaction_hour</th>\n",
       "      <th>BalanceChange</th>\n",
       "    </tr>\n",
       "  </thead>\n",
       "  <tbody>\n",
       "    <tr>\n",
       "      <th>12</th>\n",
       "      <td>226</td>\n",
       "      <td>PAYMENT</td>\n",
       "      <td>35889.19</td>\n",
       "      <td>C1000028914</td>\n",
       "      <td>0.00</td>\n",
       "      <td>0.00</td>\n",
       "      <td>M1571108016</td>\n",
       "      <td>0.00</td>\n",
       "      <td>0.00</td>\n",
       "      <td>0</td>\n",
       "      <td>...</td>\n",
       "      <td>0</td>\n",
       "      <td>0.000000</td>\n",
       "      <td>1</td>\n",
       "      <td>2</td>\n",
       "      <td>10k-100k</td>\n",
       "      <td>0</td>\n",
       "      <td>0.00</td>\n",
       "      <td>0.00</td>\n",
       "      <td>10</td>\n",
       "      <td>35889.19</td>\n",
       "    </tr>\n",
       "    <tr>\n",
       "      <th>14</th>\n",
       "      <td>655</td>\n",
       "      <td>TRANSFER</td>\n",
       "      <td>253648.68</td>\n",
       "      <td>C1000036340</td>\n",
       "      <td>253648.68</td>\n",
       "      <td>0.00</td>\n",
       "      <td>C1958275811</td>\n",
       "      <td>0.00</td>\n",
       "      <td>0.00</td>\n",
       "      <td>1</td>\n",
       "      <td>...</td>\n",
       "      <td>1</td>\n",
       "      <td>1.000000</td>\n",
       "      <td>1</td>\n",
       "      <td>2</td>\n",
       "      <td>100k+</td>\n",
       "      <td>0</td>\n",
       "      <td>253648.68</td>\n",
       "      <td>0.00</td>\n",
       "      <td>7</td>\n",
       "      <td>507297.36</td>\n",
       "    </tr>\n",
       "    <tr>\n",
       "      <th>16</th>\n",
       "      <td>10</td>\n",
       "      <td>CASH_IN</td>\n",
       "      <td>451174.06</td>\n",
       "      <td>C1000037689</td>\n",
       "      <td>4042922.49</td>\n",
       "      <td>4494096.56</td>\n",
       "      <td>C925108082</td>\n",
       "      <td>1900737.34</td>\n",
       "      <td>1449563.28</td>\n",
       "      <td>0</td>\n",
       "      <td>...</td>\n",
       "      <td>0</td>\n",
       "      <td>0.111596</td>\n",
       "      <td>1</td>\n",
       "      <td>2</td>\n",
       "      <td>100k+</td>\n",
       "      <td>0</td>\n",
       "      <td>-451174.07</td>\n",
       "      <td>-451174.06</td>\n",
       "      <td>10</td>\n",
       "      <td>4494096.55</td>\n",
       "    </tr>\n",
       "    <tr>\n",
       "      <th>25</th>\n",
       "      <td>258</td>\n",
       "      <td>PAYMENT</td>\n",
       "      <td>1140.86</td>\n",
       "      <td>C100005294</td>\n",
       "      <td>0.00</td>\n",
       "      <td>0.00</td>\n",
       "      <td>M1606566150</td>\n",
       "      <td>0.00</td>\n",
       "      <td>0.00</td>\n",
       "      <td>0</td>\n",
       "      <td>...</td>\n",
       "      <td>0</td>\n",
       "      <td>0.000000</td>\n",
       "      <td>1</td>\n",
       "      <td>2</td>\n",
       "      <td>1k-10k</td>\n",
       "      <td>0</td>\n",
       "      <td>0.00</td>\n",
       "      <td>0.00</td>\n",
       "      <td>18</td>\n",
       "      <td>1140.86</td>\n",
       "    </tr>\n",
       "    <tr>\n",
       "      <th>27</th>\n",
       "      <td>594</td>\n",
       "      <td>PAYMENT</td>\n",
       "      <td>382.10</td>\n",
       "      <td>C100006029</td>\n",
       "      <td>0.00</td>\n",
       "      <td>0.00</td>\n",
       "      <td>M1030368393</td>\n",
       "      <td>0.00</td>\n",
       "      <td>0.00</td>\n",
       "      <td>0</td>\n",
       "      <td>...</td>\n",
       "      <td>0</td>\n",
       "      <td>0.000000</td>\n",
       "      <td>1</td>\n",
       "      <td>3</td>\n",
       "      <td>100-1k</td>\n",
       "      <td>0</td>\n",
       "      <td>0.00</td>\n",
       "      <td>0.00</td>\n",
       "      <td>18</td>\n",
       "      <td>382.10</td>\n",
       "    </tr>\n",
       "  </tbody>\n",
       "</table>\n",
       "<p>5 rows × 25 columns</p>\n",
       "</div>"
      ],
      "text/plain": [
       "    step      type     amount     nameOrig  oldbalanceOrg  newbalanceOrig  \\\n",
       "12   226   PAYMENT   35889.19  C1000028914           0.00            0.00   \n",
       "14   655  TRANSFER  253648.68  C1000036340      253648.68            0.00   \n",
       "16    10   CASH_IN  451174.06  C1000037689     4042922.49      4494096.56   \n",
       "25   258   PAYMENT    1140.86   C100005294           0.00            0.00   \n",
       "27   594   PAYMENT     382.10   C100006029           0.00            0.00   \n",
       "\n",
       "       nameDest  oldbalanceDest  newbalanceDest  isFraud  ...  is_new_device  \\\n",
       "12  M1571108016            0.00            0.00        0  ...              0   \n",
       "14  C1958275811            0.00            0.00        1  ...              1   \n",
       "16   C925108082      1900737.34      1449563.28        0  ...              0   \n",
       "25  M1606566150            0.00            0.00        0  ...              0   \n",
       "27  M1030368393            0.00            0.00        0  ...              0   \n",
       "\n",
       "   amount_fraction_of_balance is_new_destination LoginAttempts  amount_bin  \\\n",
       "12                   0.000000                  1             2    10k-100k   \n",
       "14                   1.000000                  1             2       100k+   \n",
       "16                   0.111596                  1             2       100k+   \n",
       "25                   0.000000                  1             2      1k-10k   \n",
       "27                   0.000000                  1             3      100-1k   \n",
       "\n",
       "    is_repeat_customer  diffbalanceOrig  diffbalanceDest  transaction_hour  \\\n",
       "12                   0             0.00             0.00                10   \n",
       "14                   0        253648.68             0.00                 7   \n",
       "16                   0       -451174.07       -451174.06                10   \n",
       "25                   0             0.00             0.00                18   \n",
       "27                   0             0.00             0.00                18   \n",
       "\n",
       "   BalanceChange  \n",
       "12      35889.19  \n",
       "14     507297.36  \n",
       "16    4494096.55  \n",
       "25       1140.86  \n",
       "27        382.10  \n",
       "\n",
       "[5 rows x 25 columns]"
      ]
     },
     "metadata": {},
     "output_type": "display_data"
    }
   ],
   "source": [
    "# Transactions with more than one login attempt\n",
    "high_login_attempts = df[df[\"LoginAttempts\"]> 1]\n",
    "print(f\"Number of transactions with more than one login attempts: {len(high_login_attempts)}\")\n",
    "display(high_login_attempts.head())"
   ]
  },
  {
   "cell_type": "code",
   "execution_count": 47,
   "id": "71374c1b",
   "metadata": {},
   "outputs": [
    {
     "data": {
      "image/png": "[encoded data removed]",
      "text/plain": [
       "<Figure size 720x360 with 1 Axes>"
      ]
     },
     "metadata": {},
     "output_type": "display_data"
    }
   ],
   "source": [
    "#Distribution of Login Attempts\n",
    "plt.figure(figsize=(10,5))\n",
    "sns.histplot(df[\"LoginAttempts\"], bins =5, kde=True)\n",
    "plt.title(\"Distribution of Login Attempts\")\n",
    "plt.xlabel(\"Number of login attempts\")\n",
    "plt.ylabel(\"Frequency\")\n",
    "plt.show()"
   ]
  },
  {
   "cell_type": "code",
   "execution_count": 48,
   "id": "df5d162d",
   "metadata": {},
   "outputs": [
    {
     "data": {
      "image/png": "[encoded data removed]",
      "text/plain": [
       "<Figure size 720x432 with 1 Axes>"
      ]
     },
     "metadata": {},
     "output_type": "display_data"
    }
   ],
   "source": [
    "# LoginAttempts vs. Amount\n",
    "plt.figure(figsize=(10,6))\n",
    "sns.boxplot(data=df, x=\"LoginAttempts\", y=\"amount\", palette=\"muted\", showfliers=False)\n",
    "plt.yscale(\"log\")\n",
    "plt.title(\"Transaction amount by Login Attempts\")\n",
    "plt.xlabel(\"Number of login attempts\")\n",
    "plt.ylabel(\"Transaction Amount (log scale)\")\n",
    "plt.tight_layout()\n",
    "plt.show()"
   ]
  },
  {
   "cell_type": "code",
   "execution_count": 49,
   "id": "62e761eb",
   "metadata": {},
   "outputs": [
    {
     "data": {
      "image/png": "[encoded data removed]",
      "text/plain": [
       "<Figure size 1080x360 with 2 Axes>"
      ]
     },
     "metadata": {},
     "output_type": "display_data"
    }
   ],
   "source": [
    "plt.figure(figsize=(15,5))\n",
    "\n",
    "# High login attempts by Transaction type\n",
    "plt.subplot(1,2,1)\n",
    "sns.countplot(data=high_login_attempts, x=\"transaction_type\",palette=\"muted\")\n",
    "plt.title(\"High Login Attempts by Transaction type\")\n",
    "plt.xlabel(\"Transaction type\")\n",
    "plt.ylabel(\"Count\")\n",
    "\n",
    "# High login attempts by Transaction type\n",
    "plt.subplot(1,2,2)\n",
    "sns.countplot(data=high_login_attempts, x=\"channel\",palette=\"muted\")\n",
    "plt.title(\"High Login Attempts by Channel\")\n",
    "plt.xlabel(\"Channel\")\n",
    "plt.ylabel(\"Count\")\n",
    "\n",
    "plt.tight_layout()\n",
    "plt.show()"
   ]
  },
  {
   "cell_type": "code",
   "execution_count": null,
   "id": "fd05d9b4",
   "metadata": {
    "scrolled": true
   },
   "outputs": [],
   "source": []
  },
  {
   "cell_type": "code",
   "execution_count": 50,
   "id": "ce77457b",
   "metadata": {},
   "outputs": [
    {
     "data": {
      "text/plain": [
       "Index(['step', 'type', 'amount', 'nameOrig', 'oldbalanceOrg', 'newbalanceOrig',\n",
       "       'nameDest', 'oldbalanceDest', 'newbalanceDest', 'isFraud',\n",
       "       'isFlaggedFraud', 'transaction_type', 'channel', 'transaction_time',\n",
       "       'time_since_last_transaction', 'is_new_device',\n",
       "       'amount_fraction_of_balance', 'is_new_destination', 'LoginAttempts',\n",
       "       'amount_bin', 'is_repeat_customer', 'diffbalanceOrig',\n",
       "       'diffbalanceDest', 'transaction_hour', 'BalanceChange'],\n",
       "      dtype='object')"
      ]
     },
     "execution_count": 50,
     "metadata": {},
     "output_type": "execute_result"
    }
   ],
   "source": [
    "df.columns"
   ]
  },
  {
   "cell_type": "code",
   "execution_count": 51,
   "id": "b62e2061",
   "metadata": {},
   "outputs": [],
   "source": [
    "# Identifying features to exclude based on their potential redundancy and low importance\n",
    "exclude = [\"step\",\"type\",\"nameOrig\",\"nameDest\", \"isFlaggedFraud\",\"time_since_last_transaction\", \"amount_fraction_of_balance\",\n",
    "          \"amount_bin\",\"diffbalanceOrig\",\"diffbalanceDest\",\"BalanceChange\",\"transaction_time\",\"transaction_hour\", \"is_repeat_customer\"]"
   ]
  },
  {
   "cell_type": "code",
   "execution_count": 52,
   "id": "43dc1fe4",
   "metadata": {},
   "outputs": [],
   "source": [
    "df_model = df.drop(exclude, axis=1)"
   ]
  },
  {
   "cell_type": "code",
   "execution_count": null,
   "id": "a1a8e72b",
   "metadata": {},
   "outputs": [],
   "source": []
  },
  {
   "cell_type": "code",
   "execution_count": 53,
   "id": "5cc947ff",
   "metadata": {
    "scrolled": true
   },
   "outputs": [
    {
     "data": {
      "text/html": [
       "<div>\n",
       "<style scoped>\n",
       "    .dataframe tbody tr th:only-of-type {\n",
       "        vertical-align: middle;\n",
       "    }\n",
       "\n",
       "    .dataframe tbody tr th {\n",
       "        vertical-align: top;\n",
       "    }\n",
       "\n",
       "    .dataframe thead th {\n",
       "        text-align: right;\n",
       "    }\n",
       "</style>\n",
       "<table border=\"1\" class=\"dataframe\">\n",
       "  <thead>\n",
       "    <tr style=\"text-align: right;\">\n",
       "      <th></th>\n",
       "      <th>amount</th>\n",
       "      <th>oldbalanceOrg</th>\n",
       "      <th>newbalanceOrig</th>\n",
       "      <th>oldbalanceDest</th>\n",
       "      <th>newbalanceDest</th>\n",
       "      <th>isFraud</th>\n",
       "      <th>transaction_type</th>\n",
       "      <th>channel</th>\n",
       "      <th>is_new_device</th>\n",
       "      <th>is_new_destination</th>\n",
       "      <th>LoginAttempts</th>\n",
       "    </tr>\n",
       "  </thead>\n",
       "  <tbody>\n",
       "    <tr>\n",
       "      <th>0</th>\n",
       "      <td>3170.28</td>\n",
       "      <td>58089.00</td>\n",
       "      <td>54918.72</td>\n",
       "      <td>0.00</td>\n",
       "      <td>0.00</td>\n",
       "      <td>0</td>\n",
       "      <td>Payment</td>\n",
       "      <td>web</td>\n",
       "      <td>1</td>\n",
       "      <td>1</td>\n",
       "      <td>1</td>\n",
       "    </tr>\n",
       "    <tr>\n",
       "      <th>1</th>\n",
       "      <td>3849.38</td>\n",
       "      <td>103120.55</td>\n",
       "      <td>99271.17</td>\n",
       "      <td>0.00</td>\n",
       "      <td>0.00</td>\n",
       "      <td>0</td>\n",
       "      <td>Payment</td>\n",
       "      <td>web</td>\n",
       "      <td>0</td>\n",
       "      <td>1</td>\n",
       "      <td>1</td>\n",
       "    </tr>\n",
       "    <tr>\n",
       "      <th>2</th>\n",
       "      <td>17686.93</td>\n",
       "      <td>104117.89</td>\n",
       "      <td>86430.95</td>\n",
       "      <td>0.00</td>\n",
       "      <td>0.00</td>\n",
       "      <td>0</td>\n",
       "      <td>Payment</td>\n",
       "      <td>web</td>\n",
       "      <td>0</td>\n",
       "      <td>1</td>\n",
       "      <td>1</td>\n",
       "    </tr>\n",
       "    <tr>\n",
       "      <th>3</th>\n",
       "      <td>77027.49</td>\n",
       "      <td>19787.00</td>\n",
       "      <td>0.00</td>\n",
       "      <td>0.00</td>\n",
       "      <td>77027.49</td>\n",
       "      <td>0</td>\n",
       "      <td>Withdrawal</td>\n",
       "      <td>mobile_app</td>\n",
       "      <td>0</td>\n",
       "      <td>1</td>\n",
       "      <td>1</td>\n",
       "    </tr>\n",
       "    <tr>\n",
       "      <th>4</th>\n",
       "      <td>290045.17</td>\n",
       "      <td>0.00</td>\n",
       "      <td>0.00</td>\n",
       "      <td>914750.06</td>\n",
       "      <td>1204795.23</td>\n",
       "      <td>0</td>\n",
       "      <td>Withdrawal</td>\n",
       "      <td>mobile_app</td>\n",
       "      <td>0</td>\n",
       "      <td>1</td>\n",
       "      <td>1</td>\n",
       "    </tr>\n",
       "  </tbody>\n",
       "</table>\n",
       "</div>"
      ],
      "text/plain": [
       "      amount  oldbalanceOrg  newbalanceOrig  oldbalanceDest  newbalanceDest  \\\n",
       "0    3170.28       58089.00        54918.72            0.00            0.00   \n",
       "1    3849.38      103120.55        99271.17            0.00            0.00   \n",
       "2   17686.93      104117.89        86430.95            0.00            0.00   \n",
       "3   77027.49       19787.00            0.00            0.00        77027.49   \n",
       "4  290045.17           0.00            0.00       914750.06      1204795.23   \n",
       "\n",
       "   isFraud transaction_type     channel  is_new_device  is_new_destination  \\\n",
       "0        0          Payment         web              1                   1   \n",
       "1        0          Payment         web              0                   1   \n",
       "2        0          Payment         web              0                   1   \n",
       "3        0       Withdrawal  mobile_app              0                   1   \n",
       "4        0       Withdrawal  mobile_app              0                   1   \n",
       "\n",
       "   LoginAttempts  \n",
       "0              1  \n",
       "1              1  \n",
       "2              1  \n",
       "3              1  \n",
       "4              1  "
      ]
     },
     "execution_count": 53,
     "metadata": {},
     "output_type": "execute_result"
    }
   ],
   "source": [
    "df_model.head()"
   ]
  },
  {
   "cell_type": "markdown",
   "id": "a1da1f92",
   "metadata": {},
   "source": [
    "### Class Distribution before SMOTE"
   ]
  },
  {
   "cell_type": "code",
   "execution_count": 54,
   "id": "12c12e01",
   "metadata": {},
   "outputs": [
    {
     "data": {
      "image/png": "[encoded data removed]",
      "text/plain": [
       "<Figure size 576x432 with 1 Axes>"
      ]
     },
     "metadata": {},
     "output_type": "display_data"
    }
   ],
   "source": [
    "# Visualizing the distribution of the target variable 'isFraud' before SMOTE\n",
    "plt.figure(figsize=(8, 6))\n",
    "sns.countplot(x='isFraud', data=df)\n",
    "plt.title(\"Distribution of isFraud Before SMOTE\")\n",
    "plt.xlabel(\"isFraud Class\")\n",
    "plt.ylabel(\"Count\")\n",
    "plt.show()"
   ]
  },
  {
   "cell_type": "markdown",
   "id": "a683f200",
   "metadata": {},
   "source": [
    "### Applying SMOTE-like resampling using sklearn's resample method"
   ]
  },
  {
   "cell_type": "code",
   "execution_count": 58,
   "id": "2efdec3a",
   "metadata": {},
   "outputs": [
    {
     "data": {
      "image/png": "[encoded data removed]",
      "text/plain": [
       "<Figure size 432x288 with 1 Axes>"
      ]
     },
     "metadata": {},
     "output_type": "display_data"
    }
   ],
   "source": [
    "from sklearn.utils import resample\n",
    "\n",
    "X = df_model.drop(\"isFraud\", axis=1)   # Features\n",
    "y = df_model[\"isFraud\"]                # Target\n",
    "\n",
    "def balance_classes(X, y):\n",
    "    # Combine features + target\n",
    "    df_train = pd.concat([X, y], axis=1)\n",
    "\n",
    "    # Split majority and minority\n",
    "    df_majority = df_train[df_train.isFraud == 0]\n",
    "    df_minority = df_train[df_train.isFraud == 1]\n",
    "\n",
    "    # Upsample minority\n",
    "    df_minority_upsampled = resample(\n",
    "        df_minority,\n",
    "        replace=True,                 # sample with replacement\n",
    "        n_samples=len(df_majority),   # match majority size\n",
    "        random_state=42\n",
    "    )\n",
    "\n",
    "    # Combine back\n",
    "    df_balanced = pd.concat([df_majority, df_minority_upsampled])\n",
    "\n",
    "    # Shuffle\n",
    "    df_balanced = df_balanced.sample(frac=1, random_state=42).reset_index(drop=True)\n",
    "\n",
    "    # Split again\n",
    "    X_bal = df_balanced.drop(\"isFraud\", axis=1)\n",
    "    y_bal = df_balanced[\"isFraud\"]\n",
    "\n",
    "    return X_bal, y_bal\n",
    "\n",
    "# Apply balancing\n",
    "X_resampled, y_resampled = balance_classes(X, y)\n",
    "\n",
    "# Visualize distribution\n",
    "plt.figure(figsize=(6,4))\n",
    "y_resampled.value_counts().plot(kind=\"bar\", color=[\"green\",\"red\"])\n",
    "plt.title(\"Fraud vs Non-Fraud After Oversampling\")\n",
    "plt.xticks([0,1], [\"Non-Fraud\",\"Fraud\"], rotation=0)\n",
    "plt.ylabel(\"Count\")\n",
    "plt.show()"
   ]
  },
  {
   "cell_type": "markdown",
   "id": "7faa5247",
   "metadata": {},
   "source": [
    "## Model Building & Prediction"
   ]
  },
  {
   "cell_type": "code",
   "execution_count": 59,
   "id": "3f64608d",
   "metadata": {},
   "outputs": [],
   "source": [
    "from sklearn.model_selection import train_test_split\n",
    "from sklearn.preprocessing import StandardScaler\n",
    "from sklearn.linear_model import LogisticRegression\n",
    "from sklearn.metrics import classification_report, confusion_matrix\n",
    "from sklearn.pipeline import Pipeline\n",
    "from sklearn.compose import ColumnTransformer\n",
    "from sklearn.preprocessing import OneHotEncoder"
   ]
  },
  {
   "cell_type": "code",
   "execution_count": 63,
   "id": "04e37deb",
   "metadata": {},
   "outputs": [],
   "source": [
    "# 1. Split classes\n",
    "df_majority = df_model[df_model.isFraud == 0]\n",
    "df_minority = df_model[df_model.isFraud == 1]\n",
    "\n",
    "# 2. Upsample frauds\n",
    "df_minority_upsampled = resample(\n",
    "    df_minority,\n",
    "    replace=True,                # sample with replacement\n",
    "    n_samples=len(df_majority),  # match majority size\n",
    "    random_state=42\n",
    ")\n",
    "\n",
    "# 3. Combine back\n",
    "df_balanced = pd.concat([df_majority, df_minority_upsampled]).sample(frac=1, random_state=42)\n"
   ]
  },
  {
   "cell_type": "code",
   "execution_count": 64,
   "id": "65fad8dd",
   "metadata": {},
   "outputs": [],
   "source": [
    "# 4. Split features & target\n",
    "X = df_balanced.drop(\"isFraud\", axis=1)\n",
    "y = df_balanced[\"isFraud\"]"
   ]
  },
  {
   "cell_type": "code",
   "execution_count": 65,
   "id": "c64b13bb",
   "metadata": {},
   "outputs": [],
   "source": [
    "# Convert categorical variables into dummy/indicator variables\n",
    "X_encoded = pd.get_dummies(X, drop_first=True)"
   ]
  },
  {
   "cell_type": "code",
   "execution_count": 72,
   "id": "fffb5c20",
   "metadata": {},
   "outputs": [
    {
     "data": {
      "text/plain": [
       "Index(['amount', 'oldbalanceOrg', 'newbalanceOrig', 'oldbalanceDest',\n",
       "       'newbalanceDest', 'isFraud', 'transaction_type', 'channel',\n",
       "       'is_new_device', 'is_new_destination', 'LoginAttempts'],\n",
       "      dtype='object')"
      ]
     },
     "execution_count": 72,
     "metadata": {},
     "output_type": "execute_result"
    }
   ],
   "source": [
    "df_balanced.columns"
   ]
  },
  {
   "cell_type": "code",
   "execution_count": 75,
   "id": "de320e35",
   "metadata": {},
   "outputs": [],
   "source": []
  },
  {
   "cell_type": "code",
   "execution_count": 79,
   "id": "2a857650",
   "metadata": {},
   "outputs": [
    {
     "name": "stdout",
     "output_type": "stream",
     "text": [
      "\n",
      "Classification Report:\n",
      "              precision    recall  f1-score   support\n",
      "\n",
      "           0       0.96      0.66      0.78    299621\n",
      "           1       0.74      0.97      0.84    299620\n",
      "\n",
      "    accuracy                           0.82    599241\n",
      "   macro avg       0.85      0.82      0.81    599241\n",
      "weighted avg       0.85      0.82      0.81    599241\n",
      "\n",
      "Confusion Matrix:\n",
      "[[198242 101379]\n",
      " [  7572 292048]]\n"
     ]
    }
   ],
   "source": [
    "# Train-test split\n",
    "X_train, X_test, y_train, y_test = train_test_split(X_encoded, y, test_size=0.3, random_state=42, stratify=y)\n",
    "\n",
    "# Train Logistic Regression\n",
    "\n",
    "model = LogisticRegression(max_iter=500)\n",
    "model.fit(X_train, y_train)"
   ]
  },
  {
   "cell_type": "code",
   "execution_count": null,
   "id": "3df34977",
   "metadata": {},
   "outputs": [],
   "source": [
    "# Evaluate\n",
    "y_pred = model.predict(X_test)\n",
    "y_proba = model.predict_proba(X_test)[:, 1]\n",
    "\n",
    "print(\"\\nClassification Report:\")\n",
    "print(classification_report(y_test, y_pred))\n",
    "\n",
    "print(\"Confusion Matrix:\")\n",
    "print(confusion_matrix(y_test, y_pred))\n"
   ]
  },
  {
   "cell_type": "code",
   "execution_count": 80,
   "id": "6e37fe10",
   "metadata": {
    "scrolled": true
   },
   "outputs": [
    {
     "name": "stdout",
     "output_type": "stream",
     "text": [
      "0.8527638213612924\n",
      "0.8181852652650996\n"
     ]
    }
   ],
   "source": [
    "S"
   ]
  },
  {
   "cell_type": "code",
   "execution_count": null,
   "id": "ca2ca3e2",
   "metadata": {},
   "outputs": [],
   "source": []
  }
 ],
 "metadata": {
  "kernelspec": {
   "display_name": "Python 3",
   "language": "python",
   "name": "python3"
  },
  "language_info": {
   "codemirror_mode": {
    "name": "ipython",
    "version": 3
   },
   "file_extension": ".py",
   "mimetype": "text/x-python",
   "name": "python",
   "nbconvert_exporter": "python",
   "pygments_lexer": "ipython3",
   "version": "3.8.8"
  }
 },
 "nbformat": 4,
 "nbformat_minor": 5
}
